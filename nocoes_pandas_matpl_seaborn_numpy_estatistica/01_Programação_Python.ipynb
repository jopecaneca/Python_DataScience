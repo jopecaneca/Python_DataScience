{
  "cells": [
    {
      "attachments": {},
      "cell_type": "markdown",
      "metadata": {
        "id": "u1elsrD7TWdZ"
      },
      "source": [
        "# **Ciência de Dados para Finanças** <p>\n",
        "**por: @Odemir Depieri Jr** - [Linkedin](https://www.linkedin.com/in/odemir-depieri-jr/) <p>\n",
        "**por: @Ronisson Lucas Calmon da Conceição** - [Linkedin](https://www.linkedin.com/in/ronisson-lucas-calmon-da-concei%C3%A7%C3%A3o-7aa884202/) <p>\n",
        "[Página do Curso](https://)\n",
        "\n",
        "**Aluno Executor: @João Caneca** - [Linkedin](https://www.linkedin.com/in/joao-caneca/) <p>"
      ]
    },
    {
      "cell_type": "markdown",
      "metadata": {
        "id": "uVOvB9KvVa0U"
      },
      "source": [
        "# Módulo 1 - Programação em Python"
      ]
    },
    {
      "cell_type": "markdown",
      "metadata": {
        "id": "8YZaousxV4_h"
      },
      "source": [
        "Nesse módulo vamos estudar a sintaxe nativa do Python. <p>\n",
        "\n",
        "**O que é Python?** <p>\n",
        "Python é uma linguagem de programação popular.Foi criado por Guido van Rossum e lançado em 1991.\n",
        "\n",
        "**Python pode ser usado para:**\n",
        "\n",
        "1.   Inteligência Artificial;\n",
        "2.   Machine Learning;\n",
        "3.   Desenvolvimento de Software;\n",
        "4.   Desenvolvimento de aplicativos;\n",
        "5.   Automações (RPA);\n",
        "6.   IoT (internet das coisas);\n",
        "7.   Muitas outras.\n",
        "\n",
        "\n",
        "\n",
        "\n",
        "\n"
      ]
    },
    {
      "attachments": {},
      "cell_type": "markdown",
      "metadata": {
        "id": "LeLUmWFPXSQ4"
      },
      "source": [
        "# **1. - Sintaxe básica** <p>\n",
        "Podemos utilizar ' ' (aspas simples) <p>\n",
        "Podemos utilizar \" \" (aspas duplas) <p>\n",
        "Utilizando o \\n para pular uma linha na impressão do valor <p>\n",
        "Usamos o hastgag # para comentar algo"
      ]
    },
    {
      "cell_type": "code",
      "execution_count": 3,
      "metadata": {
        "colab": {
          "base_uri": "https://localhost:8080/"
        },
        "id": "6b6jsk5fNIk4",
        "outputId": "f68324e6-28a0-4d2c-9699-02d47f4650be"
      },
      "outputs": [
        {
          "name": "stdout",
          "output_type": "stream",
          "text": [
            "Olá Mundão!!! \n",
            "\n",
            "Olá Mundão!!!\n"
          ]
        }
      ],
      "source": [
        "# Sintaxe básica\n",
        "print('Olá Mundão!!! \\n')\n",
        "print(\"Olá Mundão!!!\")"
      ]
    },
    {
      "cell_type": "markdown",
      "metadata": {
        "id": "YUdY6RPMX9QN"
      },
      "source": [
        "#2 . - Operadores matemáticos <p>\n",
        "Os operadores são usados ​​para realizar operações em variáveis ​​e valores:\n",
        "1. Soma\n",
        "2. Subtração\n",
        "3. Multiplicação\n",
        "4. Divisão\n",
        "5. Exponenciação\n",
        "6. Resto da Divisão\n",
        "7. Divisão de Chão\n",
        "\n",
        "\n",
        "\n"
      ]
    },
    {
      "cell_type": "code",
      "execution_count": 4,
      "metadata": {
        "colab": {
          "base_uri": "https://localhost:8080/"
        },
        "id": "wtpWfqbHmwGr",
        "outputId": "ec4284a1-31fd-44c2-8148-1bc6cdd89f09"
      },
      "outputs": [
        {
          "name": "stdout",
          "output_type": "stream",
          "text": [
            "Somar:3\n",
            "Subtração: 0\n",
            "Multiplacação: 20\n",
            "Divisão 5.0\n",
            "Exponenciação: 4\n",
            "Resto_Divisao 1\n",
            "Divisao_Chão: 2\n",
            "Varios elementos: 3, 0, 5.0\n"
          ]
        }
      ],
      "source": [
        "# Operadores para cálculos\n",
        "Soma = 1 + 2\n",
        "Subtração = 1 - 1\n",
        "Multiplicação = 2 * 10\n",
        "Divisão = 10 / 2\n",
        "Exponenciação = 2 ** 2\n",
        "Resto_Divisao = 9 % 4\n",
        "Divisao_Chão = 9 // 4\n",
        "\n",
        "# Print formatado\n",
        "print( 'Somar:{}'.format(Soma) ) \n",
        "print( 'Subtração:', Subtração ) \n",
        "print( f'Multiplacação: {Multiplicação}' )\n",
        "\n",
        "print( 'Divisão', Divisão ) \n",
        "print( 'Exponenciação: {}' .format(Exponenciação) )\n",
        "print( 'Resto_Divisao', Resto_Divisao )\n",
        "print( 'Divisao_Chão: {}'.format(Divisao_Chão) )\n",
        "print( 'Varios elementos: {}, {}, {}'.format(Soma, Subtração, Divisão) )"
      ]
    },
    {
      "cell_type": "markdown",
      "metadata": {
        "id": "4eGEIiIoZ5dd"
      },
      "source": [
        "# 3º Variáveis\n",
        "Variáveis ​​são contêineres para armazenar valores de dados.<p>\n",
        "Uma variável é criada no momento em que você atribui um valor a ela."
      ]
    },
    {
      "cell_type": "code",
      "execution_count": 5,
      "metadata": {
        "colab": {
          "base_uri": "https://localhost:8080/"
        },
        "id": "GYqhWYcVZ71Z",
        "outputId": "a04da33d-8a00-44dc-80ae-854ad100572b"
      },
      "outputs": [
        {
          "name": "stdout",
          "output_type": "stream",
          "text": [
            "100 100 \n",
            "\n",
            "10.5 10.5 \n",
            "\n",
            "Qualquer Palavra Qualquer Palavra \n",
            "\n",
            "True False \n",
            "\n"
          ]
        }
      ],
      "source": [
        "# Tipos de Variaveis\n",
        "Inteiro_Exemplo_1 = int ( 100 )\n",
        "Inteiro_Exemplo_2 = 100\n",
        "\n",
        "Flutuante_Exemplo_1 = 10.50\n",
        "Flutuante_Exemplo_2 = float( 10.50 )\n",
        "\n",
        "Palavra_Exemplo_1 = 'Qualquer Palavra'\n",
        "Palavra_Exemplo_2 = str( 'Qualquer Palavra' )\n",
        "\n",
        "Booleando_Exemplo_1 = True \n",
        "Booleando_Exemplo_2 = False\n",
        "\n",
        "print( Inteiro_Exemplo_1, Inteiro_Exemplo_2, '\\n' )\n",
        "print( Flutuante_Exemplo_1, Flutuante_Exemplo_2, '\\n' )\n",
        "print( Palavra_Exemplo_1, Palavra_Exemplo_2, '\\n' )\n",
        "print( Booleando_Exemplo_1, Booleando_Exemplo_2, '\\n' )"
      ]
    },
    {
      "cell_type": "markdown",
      "metadata": {
        "id": "EsEsPiS1cGBs"
      },
      "source": [
        "# **4º Tipos de Dados**\n",
        "1. Listas - São criadas usando [ ] (Colchetes)\n",
        "2. Tuplas - São criadas usando ( ) (Parenteses)\n",
        "3. Dicionários - São criadas usando { } (Chaves) <p>\n",
        "Esses tipos de dados podem receber qualquer tipo de informação, inclusive Operações Aritméticas"
      ]
    },
    {
      "cell_type": "code",
      "execution_count": 8,
      "metadata": {
        "colab": {
          "base_uri": "https://localhost:8080/"
        },
        "id": "vGLvKYkpqPpJ",
        "outputId": "f5feccc1-f0e9-4356-fb1c-3f105ee90eaf"
      },
      "outputs": [
        {
          "name": "stdout",
          "output_type": "stream",
          "text": [
            "[1, 2, 3, 4, 5]\n",
            "['Nome', 'Quarto', 'Morango', 4, 5]\n",
            "[1, 'Quarto', True, False] \n",
            "\n",
            "(2, 3, 4, 6)\n",
            "('João', 'Caneca', 4) \n",
            "\n",
            "{'Nome': 'João', 'Idade': 32}\n"
          ]
        }
      ],
      "source": [
        "# Tipos de Dados\n",
        "Lista_Exemplo_1 = [1, 2, 3, 4, 5]\n",
        "Lista_Exemplo_2 = ['Nome', 'Quarto', 'Morango', 4, 5]\n",
        "Lista_Exemplo_3 = [1, 'Quarto', True, False]\n",
        "\n",
        "# Tuplas são imutaveis (Não modifica)\n",
        "Tupla_Exemplo_1 = ( 2, 3, 4, 6 )\n",
        "Tupla_Exemplo_2 = ( 'João', 'Caneca', 4 )\n",
        "\n",
        "# Dicionário são para organizar os dados (Chave, Valor)\n",
        "Dicionario = { 'Nome':'João', 'Idade':32 }\n",
        "\n",
        "print( Lista_Exemplo_1 )\n",
        "print( Lista_Exemplo_2 )\n",
        "print( Lista_Exemplo_3, '\\n' )\n",
        "\n",
        "print( Tupla_Exemplo_1 )\n",
        "print( Tupla_Exemplo_2, '\\n' )\n",
        "\n",
        "print( Dicionario )"
      ]
    },
    {
      "cell_type": "markdown",
      "metadata": {
        "id": "vTq_Y3g5dao5"
      },
      "source": [
        "# 5º Nomeação de variáveis <p>\n",
        "Podemos nomear variáveis e tipos de dados de diversas formas:\n",
        "1. Declarar as variáveis em uma única linha de comando;\n",
        "2. Atribuir um valor à diversas variáveis;\n",
        "3. Declarar usando uma Lista;\n",
        "4. Combinar variáveis;\n",
        "5. Operar com operadores matemáticos;\n",
        "6. Muitos outros.\n",
        "\n"
      ]
    },
    {
      "cell_type": "code",
      "execution_count": 9,
      "metadata": {
        "colab": {
          "base_uri": "https://localhost:8080/"
        },
        "id": "S0Y8IKn_svfV",
        "outputId": "cea395cc-9584-4548-a72a-56675f70e92b"
      },
      "outputs": [
        {
          "name": "stdout",
          "output_type": "stream",
          "text": [
            "1 2 3 \n",
            "\n",
            "100 100 100 \n",
            "\n",
            "Ford \n",
            "\n",
            "João Caneca \n",
            "\n",
            "4.32\n"
          ]
        }
      ],
      "source": [
        "# Nomeando Variaveis | Exemplo 1\n",
        "Laranja, Melão, Limão = 1, 2, 3\n",
        "print( Laranja, Melão, Limão, '\\n' )\n",
        "\n",
        "# Nomeando Variaveis | Exemplo 2\n",
        "Morango = Uva = Kiwi = 100\n",
        "print( Morango, Uva, Kiwi, '\\n' )\n",
        "\n",
        "# Nomeando Variaveis | Exemplo 3\n",
        "# Criando uma lista\n",
        "Carros = ['VW', 'GM', 'Ford']\n",
        "\n",
        "# Nomeando as variaveis com a lista\n",
        "Marca_01, Marca_02, Marca_03 = Carros\n",
        "print( Marca_03, '\\n' )\n",
        "\n",
        "# Combinando Variaveis | Exemplo 1\n",
        "Nome = 'João'\n",
        "Sobrenome = 'Caneca'\n",
        "Nome_Completo = Nome + ' ' + Sobrenome\n",
        "print( Nome_Completo, '\\n' )\n",
        "\n",
        "# Combinando Variaveis | Exemplo 2\n",
        "Dolar = 5.40\n",
        "Imposto = 0.20\n",
        "Valor_Liquido = Dolar - ( Dolar * Imposto )\n",
        "print( Valor_Liquido )"
      ]
    },
    {
      "cell_type": "markdown",
      "metadata": {
        "id": "4H9ud-NqrKE8"
      },
      "source": [
        "# **6º Tipo da Informação**\n",
        "Na programação, o tipo de dados é um conceito importante.\n",
        "Variáveis ​​podem armazenar dados de diferentes tipos, e diferentes tipos podem fazer coisas diferentes.\n",
        "O Python tem os seguintes tipos de dados integrados por padrão, nestas categorias:\n",
        "1. Text Type: *str*\n",
        "2. Numeric Types:\t*int*, *float*, *complex*\n",
        "3. Sequence Types:\t*list*, *tuple*, *range*\n",
        "4. Mapping Type:\t*dict*\n",
        "5. Set Types:\t*set*, *frozenset*\n",
        "6. Boolean Type:\t*bool*\n",
        "7. Binary Types:\t*bytes*, *bytearray*, *memoryview*\n",
        "\n"
      ]
    },
    {
      "cell_type": "code",
      "execution_count": 10,
      "metadata": {
        "colab": {
          "base_uri": "https://localhost:8080/"
        },
        "id": "O0U8I7KargzY",
        "outputId": "14708e39-9e5d-4eb9-d769-0f397d5ed0c0"
      },
      "outputs": [
        {
          "name": "stdout",
          "output_type": "stream",
          "text": [
            "<class 'str'>\n",
            "<class 'int'>\n",
            "<class 'float'>\n",
            "<class 'complex'>\n",
            "<class 'list'>\n",
            "<class 'tuple'>\n",
            "<class 'range'>\n",
            "<class 'dict'>\n",
            "<class 'set'>\n",
            "<class 'frozenset'>\n",
            "<class 'bool'>\n",
            "<class 'bytes'>\n",
            "<class 'bytearray'>\n",
            "<class 'memoryview'>\n",
            "<class 'datetime.date'>\n"
          ]
        }
      ],
      "source": [
        "# Criando tipos de informações\n",
        "String = str('Olá Mundo!')\n",
        "Inteiro = int(10)\n",
        "Flutuante = float(10.99)\n",
        "Complex = complex(1j)\n",
        "Lista = list( ('Maça', 'Morango', 'Pera') )\n",
        "Tupla = tuple( ('Maça', 'Morango', 'Pera') )\n",
        "Range = range(6)\n",
        "Dicionario = dict(nome='João', age=31)\n",
        "Set = set( ('Maça', 'Morango', 'Pera') )\n",
        "Fronzet = frozenset( ('Maça', 'Morango', 'Pera') )\n",
        "Boleano = bool(5)\n",
        "Bytes = bytes(5)\n",
        "ByteArray = bytearray(5)\n",
        "Memoryview = memoryview( bytes(5) )\n",
        "\n",
        "from datetime import datetime\n",
        "Data = datetime.today().date()\n",
        "\n",
        "# Mostrando os Valores\n",
        "print( type(String) )\n",
        "print( type(Inteiro) )\n",
        "print( type(Flutuante) )\n",
        "print( type(Complex) )\n",
        "print( type(Lista) )\n",
        "print( type(Tupla) )\n",
        "print( type(Range) )\n",
        "print( type(Dicionario) )\n",
        "print( type(Set) )\n",
        "print( type(Fronzet) )\n",
        "print( type(Boleano) )\n",
        "print( type(Bytes) )\n",
        "print( type(ByteArray) )\n",
        "print( type(Memoryview) )\n",
        "print( type(Data) )"
      ]
    },
    {
      "cell_type": "markdown",
      "metadata": {
        "id": "_vyTISBrt9BD"
      },
      "source": [
        "# **7º Comando Round**\n",
        "Quando trabalhamos com números flutuantes, podemos arredondar o valor usando um comando nativo do Python<p>\n",
        "\n",
        "round( valor, número de casas)"
      ]
    },
    {
      "cell_type": "code",
      "execution_count": 11,
      "metadata": {
        "colab": {
          "base_uri": "https://localhost:8080/"
        },
        "id": "rKndFOr9WvP9",
        "outputId": "aa537fdc-d323-4ac8-f4a9-68e91099d8b8"
      },
      "outputs": [
        {
          "name": "stdout",
          "output_type": "stream",
          "text": [
            "12.1\n",
            "12.12\n",
            "12.123\n",
            "12.12346\n"
          ]
        }
      ],
      "source": [
        "# Comando Round\n",
        "# Metodo round, arredonda valores\n",
        "\n",
        "Valor_Exemplo = 12.123456789\n",
        "\n",
        "print( round( Valor_Exemplo, 1 ) )\n",
        "print( round( Valor_Exemplo, 2 ) )\n",
        "print( round( Valor_Exemplo, 3 ) )\n",
        "print( round( Valor_Exemplo, 5 ) )"
      ]
    },
    {
      "cell_type": "markdown",
      "metadata": {
        "id": "nXb3f4OXv1VQ"
      },
      "source": [
        "# **8º Comando Len**\n",
        "A função len() retorna a quantidade de elementos de qualquer lista em Python, essa é mais uma função built-in e disponível em qualquer parte dos nossos códigos."
      ]
    },
    {
      "cell_type": "code",
      "execution_count": 62,
      "metadata": {
        "colab": {
          "base_uri": "https://localhost:8080/"
        },
        "id": "KVx_s9BywBh6",
        "outputId": "4aa77deb-fb7a-436c-c1aa-38c52f935daa"
      },
      "outputs": [
        {
          "name": "stdout",
          "output_type": "stream",
          "text": [
            "14\n",
            "3\n",
            "2\n",
            "12\n"
          ]
        }
      ],
      "source": [
        "Lista = [1, 2, 3, 4, 5, 6, 7, 8, 9, 10, 11, 12, 13, 14]\n",
        "Dicionario = { 'Nome':'João Caneca', 'Idade':32, 'Vip':False }\n",
        "Tupla = (10, 20)\n",
        "String = 'Olá Mundão! '\n",
        "\n",
        "print( len(Lista) )\n",
        "print( len(Dicionario) )\n",
        "print( len(Tupla) )\n",
        "print( len(String) )"
      ]
    },
    {
      "cell_type": "code",
      "execution_count": null,
      "metadata": {
        "id": "tSvbfD-WXjH8"
      },
      "outputs": [],
      "source": []
    },
    {
      "cell_type": "markdown",
      "metadata": {
        "id": "UC0xUa3UurIW"
      },
      "source": [
        "# **9º Fatiamento de Strings**\n",
        "Strings são listas de bytes represetando caracteres.<p>\n",
        "Podemos acessar suas posições usando Colchetes<p>\n",
        "String [Posição Inicial: Posição Final]"
      ]
    },
    {
      "cell_type": "code",
      "execution_count": 65,
      "metadata": {
        "colab": {
          "base_uri": "https://localhost:8080/"
        },
        "id": "lWcimolMu3ag",
        "outputId": "35c77c0d-77f3-4c0f-97a4-792d0930fa69"
      },
      "outputs": [
        {
          "name": "stdout",
          "output_type": "stream",
          "text": [
            "<class 'str'>\n",
            "28\n",
            "A\n",
            "d\n",
            "o\n",
            "muito Top!\n",
            "Aprender p\n"
          ]
        }
      ],
      "source": [
        "# Strings\n",
        "Minha_String = 'Aprender python é muito Top!'\n",
        "print( type(Minha_String) )\n",
        "print( len(Minha_String) )\n",
        "\n",
        "print( Minha_String[0] )\n",
        "print( Minha_String[5] )\n",
        "print( Minha_String[-6] )\n",
        "print( Minha_String[-10:] )\n",
        "print( Minha_String[0:10] )"
      ]
    },
    {
      "cell_type": "markdown",
      "metadata": {
        "id": "IF8GdirtxBrk"
      },
      "source": [
        "# **10° Manipulação de Strings**<p>\n",
        "Um tipo de dados bastante usado no dia a dia são as strings, ou cadeias de caracteres (ou sequências de caracteres). O tipo de dados string, ou str como é chamado em Python, possui várias operações úteis associadas a ele. Essas operações tornam Python uma linguagem bastante propícia para manipulação de textos.\n",
        "Algumas funções mais utilizadas:\n",
        "\n",
        "1. replace()\n",
        "2. startswith()\n",
        "3. endswith()\n",
        "4. count()\n",
        "5. capitalize()\n",
        "6. isdigit()\n",
        "7. isalnum()\n",
        "8. upper()\n",
        "9. lower()\n",
        "10. find ()\n",
        "11. strip()\n",
        "12. split()\n"
      ]
    },
    {
      "cell_type": "code",
      "execution_count": 23,
      "metadata": {},
      "outputs": [
        {
          "name": "stdout",
          "output_type": "stream",
          "text": [
            "Estou apredendo Python para Data Science!\n"
          ]
        }
      ],
      "source": [
        "# Imprimindo uma string.\n",
        "String = 'Estou apredendo Python para Data Science!'\n",
        "print( String )"
      ]
    },
    {
      "cell_type": "code",
      "execution_count": 24,
      "metadata": {},
      "outputs": [
        {
          "name": "stdout",
          "output_type": "stream",
          "text": [
            "<class 'str'>\n",
            "41\n"
          ]
        }
      ],
      "source": [
        "# Tipo de uma string usando type.\n",
        "print( type( String ) )\n",
        "\n",
        "# Tamanho de uma string usando len().\n",
        "print( len( String ) )\n"
      ]
    },
    {
      "cell_type": "code",
      "execution_count": 25,
      "metadata": {},
      "outputs": [
        {
          "name": "stdout",
          "output_type": "stream",
          "text": [
            "Estou apredendo Python para Data Science! Porque é uma paixão...\n"
          ]
        }
      ],
      "source": [
        "# Concatenação usando +\n",
        "print( String + ' Porque é uma paixão...' )"
      ]
    },
    {
      "cell_type": "code",
      "execution_count": 26,
      "metadata": {},
      "outputs": [
        {
          "name": "stdout",
          "output_type": "stream",
          "text": [
            "Estou a aprender Python para Data Science!\n"
          ]
        }
      ],
      "source": [
        "# Substitui uma substring por alguma outra coisa, usando replace().\n",
        "Substituir = String.replace('apredendo', 'a aprender')\n",
        "print( Substituir )"
      ]
    },
    {
      "cell_type": "code",
      "execution_count": 29,
      "metadata": {},
      "outputs": [
        {
          "name": "stdout",
          "output_type": "stream",
          "text": [
            "True\n",
            "False\n"
          ]
        }
      ],
      "source": [
        "# Verificar se a string começa com algo, \"Estou\", usando startswith()\n",
        "print( String.startswith('Estou') )\n",
        "\n",
        "# Verificar se a string termina algo, \"Estou\", usando endswith()?\n",
        "print( String.endswith('Science') )"
      ]
    },
    {
      "cell_type": "code",
      "execution_count": 36,
      "metadata": {},
      "outputs": [
        {
          "name": "stdout",
          "output_type": "stream",
          "text": [
            "5\n"
          ]
        }
      ],
      "source": [
        "\n",
        "# Quantas ocorrências da palavra \"a\" a string possui? usando count()\n",
        "print( String.count('a') )\n"
      ]
    },
    {
      "cell_type": "code",
      "execution_count": 37,
      "metadata": {},
      "outputs": [
        {
          "name": "stdout",
          "output_type": "stream",
          "text": [
            "Estou a aprender\n"
          ]
        }
      ],
      "source": [
        "# Capitalize - Transformar a primeira letra da primeira palavra em maiúscula, usando capitalize().\n",
        "String_02 = 'estou a aprender'\n",
        "print( String_02.capitalize() )"
      ]
    },
    {
      "cell_type": "code",
      "execution_count": 38,
      "metadata": {},
      "outputs": [
        {
          "name": "stdout",
          "output_type": "stream",
          "text": [
            "True\n",
            "False\n",
            "True\n"
          ]
        }
      ],
      "source": [
        "# Verificar se uma string só possui números, usando isdigit().\n",
        "String_03 = '123456789'\n",
        "String_04 = '123456789ABC'\n",
        "print( String_03.isdigit() )\n",
        "print( String_04.isdigit() )\n",
        "\n",
        "# Verificar se uma string é alfanumérica (só possui letras e números), usando isalnum().\n",
        "print( '12345abc'.isalnum() )"
      ]
    },
    {
      "cell_type": "code",
      "execution_count": 41,
      "metadata": {},
      "outputs": [
        {
          "name": "stdout",
          "output_type": "stream",
          "text": [
            "ESTOU APREDENDO PYTHON PARA DATA SCIENCE!\n",
            "estou apredendo python para data science!\n",
            "40\n"
          ]
        }
      ],
      "source": [
        "# Transformar tudo em Maiusculo usnado upper()\n",
        "print( String.upper() )\n",
        "\n",
        "# Transformar tudo em Minúsculo usnado lower()\n",
        "print( String.lower())\n",
        "\n",
        "# Procurar algo na string usando find()\n",
        "print( String.find('!') )"
      ]
    },
    {
      "cell_type": "code",
      "execution_count": 66,
      "metadata": {
        "colab": {
          "base_uri": "https://localhost:8080/"
        },
        "id": "-umu50oqxM54",
        "outputId": "e0c86327-b194-4080-8188-37b4da462dcd"
      },
      "outputs": [
        {
          "name": "stdout",
          "output_type": "stream",
          "text": [
            "Me tornando um Data Scientist!\n",
            "['Loja 1 vendou 10', ' Loja 2 vendou 20', ' Loja 3 vendou 30 ']\n"
          ]
        }
      ],
      "source": [
        "# Removendo espaçoes antes e fim da palavra usando strip()\n",
        "String_05 =' Me tornando um Data Scientist!   '\n",
        "print( String_05.strip() )\n",
        "\n",
        "# Separando o texto por um delimitador usando split()\n",
        "String_06 ='Loja 1 vendou 10, Loja 2 vendou 20, Loja 3 vendou 30 '\n",
        "print( String_06.split(',') )"
      ]
    },
    {
      "cell_type": "markdown",
      "metadata": {
        "id": "HGzNUJkJ2N7C"
      },
      "source": [
        "# **11º Comando Input**\n",
        "A função input() recebe como parâmetro uma string que será mostrada como auxílio ao usuário, geralmente o informando que tipo de dado o programa está aguardando receber.\n",
        "\n",
        "input()"
      ]
    },
    {
      "cell_type": "code",
      "execution_count": 67,
      "metadata": {
        "colab": {
          "base_uri": "https://localhost:8080/"
        },
        "id": "sksQdzKGiL5P",
        "outputId": "33632c11-2b20-40bb-9d81-49db6c4f9120"
      },
      "outputs": [
        {
          "name": "stdout",
          "output_type": "stream",
          "text": [
            "Seu nome é: João Caneca\n",
            "Sua idade: 32\n"
          ]
        }
      ],
      "source": [
        "# Comando input\n",
        "# Enviar uma informação momentânea\n",
        "\n",
        "Nome = input('Qual seu nome? ')\n",
        "Idade = input('Quantos anos você tem? ')\n",
        "\n",
        "print('Seu nome é:', Nome)\n",
        "print('Sua idade:', Idade)"
      ]
    },
    {
      "cell_type": "markdown",
      "metadata": {
        "id": "F9_PeEHo7qKT"
      },
      "source": [
        "# **12º Operadores de Comparação**\n",
        "Os operadores de comparação são usados ​​para comparar dois valores:\n",
        "1. '==' ( Igual a )\n",
        "2. '!=' ( Diferente )\n",
        "3. '>' ( Maior )\n",
        "4. '<' ( Menor )\n",
        "5. '>=' ( Maior igual )\n",
        "6. '<=' ( Menor igual )"
      ]
    },
    {
      "cell_type": "code",
      "execution_count": 68,
      "metadata": {
        "colab": {
          "base_uri": "https://localhost:8080/"
        },
        "id": "8AGM8GIlkGlM",
        "outputId": "4e321f2e-50de-4c56-8186-2ff7902fedbb"
      },
      "outputs": [
        {
          "name": "stdout",
          "output_type": "stream",
          "text": [
            "10 é maior que 7: True\n",
            "11 é menor que 5: False\n",
            "21 é igual 100: False\n",
            "33 é maior 33: False\n",
            "16 é maior ou igual à 16: True\n",
            "3 é menor 3: False\n",
            "25 é menor ou igual à 25: True\n"
          ]
        }
      ],
      "source": [
        "# Operadores de Comparações - Parte 1\n",
        "Igual = '=='\n",
        "Diferente = '!='\n",
        "Maior = '>'\n",
        "Maior_Igual = '>='\n",
        "Menor = '<'\n",
        "Menor_Igual = '<='\n",
        "\n",
        "print('10 é maior que 7:', 10 > 7 )\n",
        "print('11 é menor que 5:', 11 < 5 )\n",
        "print('21 é igual 100:', 21 == 100 )\n",
        "print('33 é maior 33:', 33 > 33 )\n",
        "print('16 é maior ou igual à 16:', 16 >= 16 )\n",
        "print('3 é menor 3:', 3 < 3 )\n",
        "print('25 é menor ou igual à 25:', 25 <= 25 )"
      ]
    },
    {
      "attachments": {},
      "cell_type": "markdown",
      "metadata": {
        "id": "6Lqd3mrZ8UtD"
      },
      "source": [
        "# **13º Operadores Lógicos**\n",
        "Os operadores lógicos são usados ​​para combinar instruções condicionais:\n",
        "1. and (Retorna True se ambas as declarações forem verdadeiras)\n",
        "2. or (Retorna True se uma das declarações for verdadeira)\n",
        "3. not (Invert o resultado, retorna False se o resultado for verdadeira)"
      ]
    },
    {
      "cell_type": "code",
      "execution_count": 73,
      "metadata": {
        "colab": {
          "base_uri": "https://localhost:8080/"
        },
        "id": "xntWZ8vN8RkN",
        "outputId": "1dc18ce8-2c00-4cab-aa81-91a421f3a548"
      },
      "outputs": [
        {
          "name": "stdout",
          "output_type": "stream",
          "text": [
            "12 é maior que 7 e 7 maior que 12: False\n",
            "21 é maior que 15 e 7 menor que 8: True\n",
            "8 é maior que 7 ou 7 menor que 8: False\n",
            "8 é maior que 7 ou 7 menor que 8: False\n"
          ]
        }
      ],
      "source": [
        "# Operadores de Comparações - Parte 2\n",
        "And = 'and'\n",
        "Ou = 'or'\n",
        "Negação = 'not'\n",
        "\n",
        "print('12 é maior que 7 e 7 maior que 12:', 12 > 7 and 7 > 12 )\n",
        "print('21 é maior que 15 e 7 menor que 8:', 21 > 15 and 7 < 8 )\n",
        "print('8 é maior que 7 ou 7 menor que 8:', 8 == 7 or 7 == 8 )\n",
        "print('8 é maior que 7 ou 7 menor que 8:', not (8 > 7 ) or 7 > 8 )"
      ]
    },
    {
      "cell_type": "markdown",
      "metadata": {
        "id": "52wZm8e68wSF"
      },
      "source": [
        "# **14º Operadores de Identidade**\n",
        "Os operadores de identidade são usados ​​para comparar os objetos, não se forem iguais, mas se forem realmente o mesmo objeto, com a mesma localização de memória:\n",
        "1. is (Retorna True se ambas as variáveis ​​forem o mesmo objeto)\n",
        "2. is not (Retorna True se ambas as variáveis ​​não forem o mesmo objeto)"
      ]
    },
    {
      "cell_type": "code",
      "execution_count": 52,
      "metadata": {
        "colab": {
          "base_uri": "https://localhost:8080/"
        },
        "id": "Mx3XYI8LnSfK",
        "outputId": "f3a1bdd6-3b17-426d-ae04-7c00f43c20bf"
      },
      "outputs": [
        {
          "name": "stdout",
          "output_type": "stream",
          "text": [
            "True\n",
            "False\n",
            "True\n",
            "True\n",
            "True\n"
          ]
        }
      ],
      "source": [
        "String_01 = str('Olá Mundão')\n",
        "String_02 = str('Olá Mundão')\n",
        "\n",
        "print( String_01 is String_01 )\n",
        "print( String_01 is String_02 )\n",
        "print( String_01 is not String_02 )\n",
        "print( String_01 == String_02 )\n",
        "print( type(String_01) is type(String_02) )"
      ]
    },
    {
      "cell_type": "markdown",
      "metadata": {
        "id": "RrCYnXRI89b_"
      },
      "source": [
        "# **15º Operadores de Associação**\n",
        "Os operadores de associação são usados ​​para testar se uma sequência é apresentada em um objeto:\n",
        "1. in (Retorna True se uma sequência com o valor especificado estiver presente no objeto)\n",
        "2. not in (Retorna True se uma sequência com o valor especificado não estiver presente no objeto)"
      ]
    },
    {
      "cell_type": "code",
      "execution_count": 56,
      "metadata": {
        "colab": {
          "base_uri": "https://localhost:8080/"
        },
        "id": "OJ9-UYrU9Jfl",
        "outputId": "40af4cec-20e2-4fac-c415-f99b75f8a505"
      },
      "outputs": [
        {
          "name": "stdout",
          "output_type": "stream",
          "text": [
            "True\n",
            "False\n",
            "True\n",
            "False\n"
          ]
        }
      ],
      "source": [
        "Lista_Ações = ['Kero', 'Shoprite', 'Kibabo', 'Freshmart']\n",
        "\n",
        "print( 'Kero' in Lista_Ações )\n",
        "print( 'Agomart' in Lista_Ações )\n",
        "print( 'Intermarket' not in Lista_Ações )\n",
        "print( 'Kibabo' not in Lista_Ações )"
      ]
    },
    {
      "cell_type": "markdown",
      "metadata": {
        "id": "DbMZYX6S_Fwb"
      },
      "source": [
        "# **16º Manipulando Listas**\n",
        "As listas são usadas para armazenar vários itens em uma única variável.\n",
        "\n",
        "As listas são um dos 4 tipos de dados internos do Python usados ​​para armazenar coleções de dados, os outros 3 são Tuple , Set e Dictionary , todos com qualidades e usos diferentes.<p>\n",
        "Comandos mais utilizados:\n",
        "1. append() - Para adicionar um item ao final da lista\n",
        "2. len() - Calcular o tamanho da lista\n",
        "3. [  ] - Acessar posições\n",
        "4. del() - Exlcuir um elemtno\n",
        "5. clear() - Limpar a lista\n",
        "6. insert() - Para inserir um item de lista em um índice especificado\n",
        "7. extend() - Anexar elementos de outra lista à lista atual\n",
        "8. remove() - Remove o item especificado\n",
        "9. pop() - Remove o índice especificado.\n",
        "10. sort() - Ordenar os valores\n",
        "11. copy() - Faz uma copia da Lista\n",
        "12. index() - Retorna o index do elemento da lista"
      ]
    },
    {
      "cell_type": "code",
      "execution_count": 57,
      "metadata": {},
      "outputs": [
        {
          "name": "stdout",
          "output_type": "stream",
          "text": [
            "Lista antes: [] \n",
            "\n"
          ]
        }
      ],
      "source": [
        "# Manipulando dados dentro das Lista\n",
        "Lista_Vazia = []\n",
        "print('Lista antes:', Lista_Vazia, '\\n' )"
      ]
    },
    {
      "cell_type": "code",
      "execution_count": 80,
      "metadata": {},
      "outputs": [
        {
          "name": "stdout",
          "output_type": "stream",
          "text": [
            "Lista Depois: [1, 2, 3, 'Uma String'] \n",
            "\n"
          ]
        }
      ],
      "source": [
        "# Inserindo valores na Lista usando append\n",
        "Lista_Vazia.append(1)\n",
        "Lista_Vazia.append(2)\n",
        "Lista_Vazia.append(3)\n",
        "Lista_Vazia.append('Uma String')\n",
        "print('Lista Depois:', Lista_Vazia, '\\n' )\n",
        "#Lista_Vazia.clear() # Clear usado para limpar uma lista"
      ]
    },
    {
      "cell_type": "code",
      "execution_count": null,
      "metadata": {},
      "outputs": [],
      "source": []
    },
    {
      "cell_type": "code",
      "execution_count": 81,
      "metadata": {},
      "outputs": [
        {
          "name": "stdout",
          "output_type": "stream",
          "text": [
            "Lista contém: 4 elementos \n",
            "\n",
            "Acessando o 1º Elemento: 1\n",
            "Acessando o 2º Elemento: 2\n",
            "Acessando o último Elemento: Uma String\n",
            "Acessando um periodo: [1, 2] \n",
            "\n"
          ]
        }
      ],
      "source": [
        "# Tamanho da lista usando len()\n",
        "print('Lista contém:', len(Lista_Vazia), 'elementos', '\\n' )\n",
        "\n",
        "# Acessando a lista usando []\n",
        "print('Acessando o 1º Elemento:', Lista_Vazia[0] )\n",
        "print('Acessando o 2º Elemento:', Lista_Vazia[1] )\n",
        "print('Acessando o último Elemento:', Lista_Vazia[-1] )\n",
        "print('Acessando um periodo:', Lista_Vazia[0:2], '\\n' )"
      ]
    },
    {
      "cell_type": "code",
      "execution_count": 61,
      "metadata": {},
      "outputs": [
        {
          "name": "stdout",
          "output_type": "stream",
          "text": [
            "Depois da exclusão: [1, 3] \n",
            "\n"
          ]
        }
      ],
      "source": [
        "# Excluindo valor na lista usando del\n",
        "del Lista_Vazia[1]\n",
        "print('Depois da exclusão:', Lista_Vazia, '\\n' )"
      ]
    },
    {
      "cell_type": "code",
      "execution_count": 83,
      "metadata": {},
      "outputs": [
        {
          "name": "stdout",
          "output_type": "stream",
          "text": [
            "['Joao Caneca', 'Data Scientist', 'From Angola', 'Become Master'] \n",
            "\n"
          ]
        }
      ],
      "source": [
        "# Inserindo um valor em uma lista com uma posição usando insert()\n",
        "Lista_Inserir = ['Joao Caneca', 'Data Scientist', 'From Angola']\n",
        "Lista_Inserir.insert( 4, 'Become Master' )\n",
        "print( Lista_Inserir, '\\n' )"
      ]
    },
    {
      "cell_type": "code",
      "execution_count": 84,
      "metadata": {},
      "outputs": [
        {
          "name": "stdout",
          "output_type": "stream",
          "text": [
            "['Maçã', 'Pera', 'Banana', 'Coca Cola', 'Kissangua', 'Água do Chefe'] \n",
            "\n"
          ]
        }
      ],
      "source": [
        "# Inserindo uma lista na outra usando extende()\n",
        "Lista_Frutas = ['Maçã', 'Pera', 'Banana']\n",
        "Lista_Bebidas = ['Coca Cola', 'Kissangua', 'Água do Chefe']\n",
        "Lista_Frutas.extend( Lista_Bebidas )\n",
        "print( Lista_Frutas, '\\n' )"
      ]
    },
    {
      "cell_type": "code",
      "execution_count": 85,
      "metadata": {},
      "outputs": [
        {
          "name": "stdout",
          "output_type": "stream",
          "text": [
            "['Maçã', 'Pera', 'Banana', 'Coca Cola', 'Kissangua'] \n",
            "\n"
          ]
        }
      ],
      "source": [
        "# Removendo itens especifico pelo nome usando remove()\n",
        "Lista_Frutas.remove('Água do Chefe')\n",
        "print( Lista_Frutas, '\\n' )\n"
      ]
    },
    {
      "cell_type": "code",
      "execution_count": 88,
      "metadata": {},
      "outputs": [
        {
          "data": {
            "text/plain": [
              "5"
            ]
          },
          "execution_count": 88,
          "metadata": {},
          "output_type": "execute_result"
        }
      ],
      "source": [
        "len(Lista_Frutas)"
      ]
    },
    {
      "cell_type": "code",
      "execution_count": 89,
      "metadata": {},
      "outputs": [
        {
          "name": "stdout",
          "output_type": "stream",
          "text": [
            "['Maçã', 'Pera', 'Coca Cola', 'Kissangua'] \n",
            "\n"
          ]
        }
      ],
      "source": [
        "# Removendo itens pelo index usando pop()\n",
        "Lista_Frutas.pop(2)\n",
        "print( Lista_Frutas, '\\n' )"
      ]
    },
    {
      "cell_type": "code",
      "execution_count": 91,
      "metadata": {},
      "outputs": [
        {
          "name": "stdout",
          "output_type": "stream",
          "text": [
            "['4', '5', '7', '8', '9'] \n",
            "\n"
          ]
        }
      ],
      "source": [
        "# Ordenar uma lista usando sort()\n",
        "Lista_Numerica = ['7', '9', '8', '5', '4']\n",
        "Lista_Numerica.sort()\n",
        "print( Lista_Numerica, '\\n' )"
      ]
    },
    {
      "cell_type": "code",
      "execution_count": 92,
      "metadata": {},
      "outputs": [
        {
          "name": "stdout",
          "output_type": "stream",
          "text": [
            "['9', '8', '7', '5', '4'] \n",
            "\n"
          ]
        }
      ],
      "source": [
        "# Ordenar uma lista de forma inversa usando sort(reverse=True)\n",
        "Lista_Numerica.sort( reverse=True )\n",
        "print( Lista_Numerica, '\\n' )"
      ]
    },
    {
      "cell_type": "code",
      "execution_count": 93,
      "metadata": {},
      "outputs": [
        {
          "name": "stdout",
          "output_type": "stream",
          "text": [
            "['9', '8', '7', '5', '4'] \n",
            "\n"
          ]
        }
      ],
      "source": [
        "# Copiar uma Lista usando copy()\n",
        "Lista_Numerica_02 = Lista_Numerica.copy()\n",
        "print( Lista_Numerica_02, '\\n' )"
      ]
    },
    {
      "cell_type": "code",
      "execution_count": 94,
      "metadata": {},
      "outputs": [
        {
          "name": "stdout",
          "output_type": "stream",
          "text": [
            "2 \n",
            "\n"
          ]
        }
      ],
      "source": [
        "# Indetificar o Index do elemtno na lista usando index\n",
        "print( Lista_Numerica_02.index('7'), '\\n' )"
      ]
    },
    {
      "cell_type": "markdown",
      "metadata": {
        "id": "tlAQIqszEgDi"
      },
      "source": [
        "# **17º Pacote Externo - Datetime**\n",
        "O datetime módulo fornece classes para manipulação de datas e horas.\n"
      ]
    },
    {
      "cell_type": "code",
      "execution_count": 110,
      "metadata": {
        "colab": {
          "base_uri": "https://localhost:8080/"
        },
        "id": "TMa8Z54aEwlP",
        "outputId": "f14f4523-3f75-4777-e6db-b4eaabcd2f6c"
      },
      "outputs": [
        {
          "name": "stdout",
          "output_type": "stream",
          "text": [
            "Hoje é: 2023-01-13 \n",
            "\n"
          ]
        }
      ],
      "source": [
        "import datetime\n",
        "\n",
        "# Dia de Hoje sem hora\n",
        "Dia_Hoje = datetime.datetime.today().date()\n",
        "print( f'Hoje é: {Dia_Hoje} \\n' )"
      ]
    },
    {
      "cell_type": "code",
      "execution_count": 106,
      "metadata": {},
      "outputs": [
        {
          "name": "stdout",
          "output_type": "stream",
          "text": [
            "Hoje é: 2023-01-13 16:20:20.401665 \n",
            "\n"
          ]
        }
      ],
      "source": [
        "# Dia de Hoje com a hora\n",
        "Dia_Hoje_hora = datetime.datetime.today()\n",
        "print( f'Hoje é: {Dia_Hoje} \\n' )"
      ]
    },
    {
      "cell_type": "code",
      "execution_count": 111,
      "metadata": {},
      "outputs": [
        {
          "name": "stdout",
          "output_type": "stream",
          "text": [
            "Construindo uma Data 2023-12-31 \n",
            "\n"
          ]
        }
      ],
      "source": [
        "# Construindo uma Data\n",
        "Data = datetime.date(2023, 12, 31)\n",
        "print( f'Construindo uma Data {Data} \\n' )"
      ]
    },
    {
      "cell_type": "code",
      "execution_count": 112,
      "metadata": {},
      "outputs": [
        {
          "name": "stdout",
          "output_type": "stream",
          "text": [
            "Hoje é dia 31 do mês 12 do ano de 2023 \n",
            "\n"
          ]
        }
      ],
      "source": [
        "# Acessando os atributos da DAta\n",
        "Ano = Data.year\n",
        "Mes = Data.month\n",
        "Dia = Data.day\n",
        "print(f'Hoje é dia {Dia} do mês {Mes} do ano de {Ano} \\n')\n",
        "\n"
      ]
    },
    {
      "cell_type": "code",
      "execution_count": 113,
      "metadata": {},
      "outputs": [
        {
          "name": "stdout",
          "output_type": "stream",
          "text": [
            "Já ocorreu 352 days, 0:00:00 dias \n",
            "\n"
          ]
        }
      ],
      "source": [
        "# Operação\n",
        "Intervalo = Data - Dia_Hoje\n",
        "print(f'Já ocorreu {Intervalo} dias \\n' )"
      ]
    },
    {
      "cell_type": "code",
      "execution_count": 114,
      "metadata": {},
      "outputs": [
        {
          "name": "stdout",
          "output_type": "stream",
          "text": [
            "Hoje é: 13/01/23 \n",
            "\n"
          ]
        }
      ],
      "source": [
        "# Ajustando o formato strftime('%d/%m/%y')\n",
        "Novo_Formato = Dia_Hoje.strftime('%d/%m/%y')\n",
        "print( f'Hoje é: {Novo_Formato} \\n' )\n"
      ]
    },
    {
      "cell_type": "code",
      "execution_count": 115,
      "metadata": {},
      "outputs": [
        {
          "name": "stdout",
          "output_type": "stream",
          "text": [
            "Somando 30 dias, 2023-02-12\n",
            "Diminuindo 30 dias, 2022-12-14\n"
          ]
        }
      ],
      "source": [
        "\n",
        "# Aumentar dias ou diminuir\n",
        "print( f'Somando 30 dias, {Dia_Hoje + datetime.timedelta(days = 30)}' )\n",
        "print( f'Diminuindo 30 dias, {Dia_Hoje - datetime.timedelta(days = 30)}' )"
      ]
    },
    {
      "cell_type": "markdown",
      "metadata": {
        "id": "AkzpmFB37MR-"
      },
      "source": [
        "# **18° Pacote Externo - Time**\n",
        "Este módulo fornece várias funções relacionadas ao tempo"
      ]
    },
    {
      "cell_type": "code",
      "execution_count": 117,
      "metadata": {
        "colab": {
          "base_uri": "https://localhost:8080/"
        },
        "id": "g7Ru0a446HCj",
        "outputId": "c6c53ca8-4e34-4967-a894-ddc7ae0c69cc"
      },
      "outputs": [
        {
          "name": "stdout",
          "output_type": "stream",
          "text": [
            "Esse print foi rápido!\n",
            "Esse print aconteceu depois de 5 segundos \n",
            "\n"
          ]
        }
      ],
      "source": [
        "# Importar a Lib\n",
        "import time\n",
        "\n",
        "print('Esse print foi rápido!')\n",
        "time.sleep(5)\n",
        "print('Esse print aconteceu depois de 5 segundos \\n')\n",
        "\n"
      ]
    },
    {
      "cell_type": "code",
      "execution_count": 125,
      "metadata": {},
      "outputs": [
        {
          "name": "stdout",
          "output_type": "stream",
          "text": [
            "<class 'time.struct_time'>\n",
            "time.struct_time(tm_year=2023, tm_mon=1, tm_mday=13, tm_hour=16, tm_min=34, tm_sec=50, tm_wday=4, tm_yday=13, tm_isdst=0)\n"
          ]
        }
      ],
      "source": [
        "# Capturar o local agora\n",
        "Agora = time.localtime()\n",
        "print( type(Agora) )\n",
        "print( Agora )"
      ]
    },
    {
      "cell_type": "code",
      "execution_count": 126,
      "metadata": {},
      "outputs": [
        {
          "name": "stdout",
          "output_type": "stream",
          "text": [
            "13/01/2023, 16:34:50 \n",
            "\n"
          ]
        }
      ],
      "source": [
        "#Formatar time\n",
        "print( time.strftime('%d/%m/%Y, %H:%M:%S', Agora ), '\\n' )"
      ]
    },
    {
      "cell_type": "code",
      "execution_count": 121,
      "metadata": {},
      "outputs": [
        {
          "name": "stdout",
          "output_type": "stream",
          "text": [
            "time.struct_time(tm_year=2018, tm_mon=6, tm_mday=21, tm_hour=0, tm_min=0, tm_sec=0, tm_wday=3, tm_yday=172, tm_isdst=-1)\n"
          ]
        }
      ],
      "source": [
        "\n",
        "# Converter uma string para time usando strptime\n",
        "Time_Texto = '21 June, 2018'\n",
        "Conversao = time.strptime(Time_Texto, '%d %B, %Y')\n",
        "print(Conversao)"
      ]
    },
    {
      "cell_type": "code",
      "execution_count": null,
      "metadata": {},
      "outputs": [],
      "source": []
    },
    {
      "cell_type": "markdown",
      "metadata": {
        "id": "4bG8pLZYINAF"
      },
      "source": [
        "# 19º Pacote Externo - Math\n",
        "**negrito**O Python possui um conjunto de funções matemáticas integradas, incluindo um extenso módulo matemático, que permite realizar tarefas matemáticas em números."
      ]
    },
    {
      "cell_type": "code",
      "execution_count": 127,
      "metadata": {
        "colab": {
          "base_uri": "https://localhost:8080/"
        },
        "id": "MYZhJucuIQNP",
        "outputId": "670dd942-0d0a-4f4e-8a73-a9c1d397c02c"
      },
      "outputs": [
        {
          "name": "stdout",
          "output_type": "stream",
          "text": [
            "5\n",
            "20\n"
          ]
        }
      ],
      "source": [
        "import math\n",
        "\n",
        "# Sem necessidade do math\n",
        "\n",
        "# Minino e Maximo\n",
        "Tupla = (10, 15, 5, 8, 20)\n",
        "print( min(Tupla) )\n",
        "print( max(Tupla) )"
      ]
    },
    {
      "cell_type": "code",
      "execution_count": 128,
      "metadata": {},
      "outputs": [
        {
          "name": "stdout",
          "output_type": "stream",
          "text": [
            "7.25\n"
          ]
        }
      ],
      "source": [
        "# ABS  retorna o valor absoluto (positivo) do número especificado\n",
        "print( abs(-7.25) )"
      ]
    },
    {
      "cell_type": "code",
      "execution_count": 129,
      "metadata": {},
      "outputs": [
        {
          "name": "stdout",
          "output_type": "stream",
          "text": [
            "81\n"
          ]
        }
      ],
      "source": [
        "# Retorna a potencia (seria o msm que 3 * 3 * 3 * 3)\n",
        "print( pow(3, 4) )"
      ]
    },
    {
      "cell_type": "code",
      "execution_count": 130,
      "metadata": {},
      "outputs": [
        {
          "name": "stdout",
          "output_type": "stream",
          "text": [
            "9.0\n"
          ]
        }
      ],
      "source": [
        "# Raiz quadrada\n",
        "Raiz_Quadrada = math.sqrt( 81 )\n",
        "print( Raiz_Quadrada )\n"
      ]
    },
    {
      "cell_type": "code",
      "execution_count": 131,
      "metadata": {},
      "outputs": [
        {
          "name": "stdout",
          "output_type": "stream",
          "text": [
            "2\n",
            "1\n",
            "3.141592653589793\n"
          ]
        }
      ],
      "source": [
        "# Arrendondamento\n",
        "\n",
        "# Arredonda um número para cima até o número inteiro mais próximo\n",
        "print( math.ceil(1.4) )\n",
        "\n",
        "# Arredonda um número para baixo até o número inteiro mais próximo\n",
        "print( math.floor(1.4) )\n",
        "\n",
        "# retorna o numero de PI\n",
        "print( math.pi )"
      ]
    },
    {
      "cell_type": "code",
      "execution_count": null,
      "metadata": {},
      "outputs": [],
      "source": []
    },
    {
      "cell_type": "markdown",
      "metadata": {
        "id": "evGNmtIZ9j_b"
      },
      "source": [
        "# **20° Pacote Externo - Random**\n",
        "Este módulo implementa geradores de números pseudo-aleatórios para várias distribuições."
      ]
    },
    {
      "cell_type": "code",
      "execution_count": 133,
      "metadata": {
        "colab": {
          "base_uri": "https://localhost:8080/"
        },
        "id": "6m8tC8-J8dJU",
        "outputId": "edd02b7a-e248-4cf3-a45e-14fcecf7429a"
      },
      "outputs": [
        {
          "name": "stdout",
          "output_type": "stream",
          "text": [
            "O número sorteado foi: 1 \n",
            "\n"
          ]
        }
      ],
      "source": [
        "# import random\n",
        "import random\n",
        "\n",
        "# Lista numerico\n",
        "Lista_Numerica = [1, 2, 3, 4, 5, 6]\n",
        "print(f'O número sorteado foi: {random.choice(Lista_Numerica)} \\n')\n",
        " \n"
      ]
    },
    {
      "cell_type": "code",
      "execution_count": 134,
      "metadata": {},
      "outputs": [
        {
          "name": "stdout",
          "output_type": "stream",
          "text": [
            "A Letra sorteada foi: c \n",
            "\n"
          ]
        }
      ],
      "source": [
        "# Sortear uma letra da palavra\n",
        "Palavra = 'Joao Caneca'\n",
        "print(f'A Letra sorteada foi: {random.choice(Palavra)} \\n')"
      ]
    },
    {
      "cell_type": "code",
      "execution_count": 135,
      "metadata": {},
      "outputs": [
        {
          "name": "stdout",
          "output_type": "stream",
          "text": [
            "O Numero gerado foi: 0.3555743186872501 \n",
            "\n"
          ]
        }
      ],
      "source": [
        "# Numero aleatorio entre 0 e 1\n",
        "Numero_Aleatorio = random.random()\n",
        "print(f'O Numero gerado foi: {Numero_Aleatorio} \\n')"
      ]
    },
    {
      "cell_type": "code",
      "execution_count": 136,
      "metadata": {},
      "outputs": [
        {
          "name": "stdout",
          "output_type": "stream",
          "text": [
            "Número aleatorio entre 20 e 80 foi: 65\n"
          ]
        }
      ],
      "source": [
        "# Valores aleatorios dentro de um perido\n",
        "Numero_Aleatorio_01 = random.randint(20, 80)\n",
        "print(f'Número aleatorio entre 20 e 80 foi: {Numero_Aleatorio_01}')"
      ]
    },
    {
      "cell_type": "code",
      "execution_count": null,
      "metadata": {},
      "outputs": [],
      "source": []
    },
    {
      "cell_type": "markdown",
      "metadata": {
        "id": "_ItJifJkCggh"
      },
      "source": [
        "# **21° Pacote Externo - Statistics**\n",
        "Este módulo fornece funções para calcular estatísticas matemáticas de dados numéricos e interage com as listas"
      ]
    },
    {
      "cell_type": "code",
      "execution_count": 137,
      "metadata": {
        "colab": {
          "base_uri": "https://localhost:8080/"
        },
        "id": "87Npf9xs9edv",
        "outputId": "d5c17412-65bb-449f-8b32-9f897ef850eb"
      },
      "outputs": [
        {
          "name": "stdout",
          "output_type": "stream",
          "text": [
            "A media seria: 2.8 \n",
            "\n",
            "A mediana seria: 3 \n",
            "\n",
            "A moda seria: 4\n"
          ]
        }
      ],
      "source": [
        "# Importando a Statistics para operar nas listas\n",
        "import statistics\n",
        "\n",
        "# Retirando a média\n",
        "Media = statistics.mean( [1, 2, 3, 4, 4] )\n",
        "print(f'A media seria: {Media} \\n')\n",
        "\n",
        "Mediana = statistics.median( [1, 2, 3, 4, 4] )\n",
        "print(f'A mediana seria: {Mediana} \\n')\n",
        "\n",
        "Moda = statistics.mode( [1, 2, 3, 4, 4] )\n",
        "print(f'A moda seria: {Moda}')"
      ]
    },
    {
      "cell_type": "markdown",
      "metadata": {
        "id": "sa4ffKUyDbbX"
      },
      "source": [
        "# **22º Condição If**\n",
        "if é a declaração mais simples de tomada de decisão. <p>Ele é usado para decidir se uma determinada instrução ou bloco de instruções será executado ou não, ou seja, se uma determinada condição for verdadeira, um bloco de instruções será executado, caso contrário, não.\n",
        "\n",
        "if condição :<p>\n",
        "*   declarações a serem executadas se\n",
        "*   condição é verdadeira\n",
        "\n"
      ]
    },
    {
      "cell_type": "code",
      "execution_count": 140,
      "metadata": {
        "colab": {
          "base_uri": "https://localhost:8080/"
        },
        "id": "ZHXnyy8dXmF3",
        "outputId": "66ca580f-891f-4936-fe10-a89b04d39437"
      },
      "outputs": [
        {
          "name": "stdout",
          "output_type": "stream",
          "text": [
            "você é maior de idade!\n"
          ]
        }
      ],
      "source": [
        "# Condição se a pessoa tiver menor de 18 anos, ela nao entra no sistema.\n",
        "Idade = 20\n",
        "\n",
        "if Idade >= 18:\n",
        "  print('você é maior de idade!')"
      ]
    },
    {
      "cell_type": "code",
      "execution_count": 142,
      "metadata": {
        "colab": {
          "base_uri": "https://localhost:8080/"
        },
        "id": "EVqREeIXWi84",
        "outputId": "dd881c26-1e42-496d-f31e-96f4b9aad51b"
      },
      "outputs": [
        {
          "name": "stdout",
          "output_type": "stream",
          "text": [
            "Você é de maior!\n"
          ]
        }
      ],
      "source": [
        "# Condição IF + ELSE\n",
        "\n",
        "Idade = int( 17 )\n",
        "\n",
        "if Idade >= 18:\n",
        "  print('Você é de maior!')\n",
        "\n",
        "else:\n",
        "  print('Você é menor de Idade!!!')"
      ]
    },
    {
      "cell_type": "code",
      "execution_count": 147,
      "metadata": {
        "colab": {
          "base_uri": "https://localhost:8080/"
        },
        "id": "yxW4eBrbWqQ_",
        "outputId": "73693014-7fc5-4c09-f8f9-dbb7691fa1da"
      },
      "outputs": [
        {
          "name": "stdout",
          "output_type": "stream",
          "text": [
            "Quase um adulto!!! Aproveita !!!!!!!!!!\n"
          ]
        }
      ],
      "source": [
        "# Condição IF + ELSE + ELIF\n",
        "\n",
        "Idade = int( 17 )\n",
        "\n",
        "if Idade > 18:\n",
        "  print('Você é de maior!')\n",
        "\n",
        "elif Idade == 18:\n",
        "  print('Opa! Welcome the jungle!!! ')\n",
        "\n",
        "elif Idade < 18 and Idade >= 14:\n",
        "\n",
        "  #if Idade % 2 == 0:\n",
        "    print('Quase um adulto!!! Aproveita !!!!!!!!!!')\n",
        "\n",
        "else:\n",
        "  print('Você é menor de Idade!!! gugudada')"
      ]
    },
    {
      "cell_type": "markdown",
      "metadata": {
        "id": "loDAbkKVFBQo"
      },
      "source": [
        "# **23º Estrutura de Loop FOR**\n",
        "O loop For do Python é usado para travessia seqüencial, ou seja, é usado para iterar sobre um iterável como string, tupla, lista, etc. Ele se enquadra na categoria de iteração definida . Iterações definidas significam que o número de repetições é especificado explicitamente com antecedência. <p>\n",
        "for variável in objeto:\n",
        "*   loop\n",
        "\n"
      ]
    },
    {
      "cell_type": "code",
      "execution_count": null,
      "metadata": {
        "colab": {
          "base_uri": "https://localhost:8080/"
        },
        "id": "wFLN2e5NEBpd",
        "outputId": "3c326781-1b8a-4445-aaef-5b313cc0d607"
      },
      "outputs": [],
      "source": [
        "# For [ Loop ]\n",
        "for QualquerCoisaQueVoceQuiser in range(10):\n",
        "  print( QualquerCoisaQueVoceQuiser ** 2  ) "
      ]
    },
    {
      "cell_type": "code",
      "execution_count": 148,
      "metadata": {
        "colab": {
          "base_uri": "https://localhost:8080/"
        },
        "id": "v2L7juIgWzSi",
        "outputId": "4f126b2f-4829-45f2-8c49-f0ddae92c693"
      },
      "outputs": [
        {
          "name": "stdout",
          "output_type": "stream",
          "text": [
            "Brasil\n",
            "Angola\n",
            "Uruguai\n",
            "Chile\n",
            "Paraguai\n",
            "Bolivia\n",
            "Equador\n",
            "Colombia\n",
            "Suriname\n",
            "Guiane\n",
            "Goianai France\n"
          ]
        }
      ],
      "source": [
        "# For + Lista\n",
        "\n",
        "Lista_Paises = ['Brasil', 'Angola', 'Uruguai', 'Chile', 'Paraguai', 'Bolivia', 'Equador', \n",
        "                'Colombia', 'Suriname', 'Guiane', 'Goianai France']\n",
        "\n",
        "for Loop in Lista_Paises:\n",
        "  print( Loop )"
      ]
    },
    {
      "cell_type": "code",
      "execution_count": 149,
      "metadata": {
        "colab": {
          "base_uri": "https://localhost:8080/"
        },
        "id": "vGrayTvPW7V7",
        "outputId": "507aae6e-051b-4d58-8c9a-8c49174e8ed6"
      },
      "outputs": [
        {
          "name": "stdout",
          "output_type": "stream",
          "text": [
            "Brasil\n",
            "Angola\n",
            "Uruguai\n",
            "Chile\n",
            "Paraguai\n",
            "Bolivia\n",
            "Equador\n",
            "Colombia\n",
            "Suriname, Guiane, Goianai France\n"
          ]
        }
      ],
      "source": [
        "# For + Lista\n",
        "Lista_Paises = ['Brasil', 'Angola', 'Uruguai', 'Chile', 'Paraguai', 'Bolivia', \n",
        "                'Equador', 'Colombia', 'Suriname, Guiane, Goianai France']\n",
        "\n",
        "for Loop in range( len(Lista_Paises) ):\n",
        "  print( Lista_Paises[Loop] )"
      ]
    },
    {
      "cell_type": "code",
      "execution_count": 150,
      "metadata": {
        "colab": {
          "base_uri": "https://localhost:8080/"
        },
        "id": "oK3FGvztXCBw",
        "outputId": "76d62c9c-9d30-43ec-edbf-67429cc08c8f"
      },
      "outputs": [
        {
          "name": "stdout",
          "output_type": "stream",
          "text": [
            "0.0 Brasil\n",
            "0.25 Angola\n",
            "0.5 Uruguai\n",
            "0.75 Chile\n",
            "1.0 Paraguai\n",
            "1.25 Bolivia\n",
            "1.5 Equador\n",
            "1.75 Colombia\n",
            "2.0 Suriname, Guiane, Goianai France\n"
          ]
        }
      ],
      "source": [
        "# For + Lista + IF + enumerate\n",
        "for Posicao, P in enumerate( Lista_Paises ):\n",
        "  print( Posicao / 4 , P )"
      ]
    },
    {
      "cell_type": "code",
      "execution_count": 160,
      "metadata": {
        "colab": {
          "base_uri": "https://localhost:8080/"
        },
        "id": "sSupXTHsXFY8",
        "outputId": "5a06ae62-49dd-4557-c9d3-120fc5991dc1"
      },
      "outputs": [
        {
          "name": "stdout",
          "output_type": "stream",
          "text": [
            "[6, 16, 26, 36, 46, 56, 66, 76, 86, 96]\n",
            "    0\n",
            "0   6\n",
            "1  16\n",
            "2  26\n",
            "3  36\n",
            "4  46\n",
            "5  56\n",
            "6  66\n",
            "7  76\n",
            "8  86\n",
            "9  96\n"
          ]
        }
      ],
      "source": [
        "# for + LISTa + IF + RANGE\n",
        "Lista_Numerica = [ Numero for Numero in range(1, 100, 5) ]\n",
        "Armazenar = []\n",
        "\n",
        "for x in Lista_Numerica:\n",
        "\n",
        "  if x % 2 == 0:\n",
        "    Armazenar.append( x )\n",
        "\n",
        "print( Armazenar )\n",
        "\n",
        "from pandas import DataFrame\n",
        "print( DataFrame(Armazenar) )"
      ]
    },
    {
      "cell_type": "code",
      "execution_count": 161,
      "metadata": {
        "colab": {
          "base_uri": "https://localhost:8080/"
        },
        "id": "n4f3dBYFXIoV",
        "outputId": "13702916-2346-40c9-84ad-b3378f149ab6"
      },
      "outputs": [
        {
          "name": "stdout",
          "output_type": "stream",
          "text": [
            "Moeda do Angola é Kwanza\n",
            "Moeda do Angola é Kwanza\n",
            "Moeda do Angola é Kwanza\n"
          ]
        }
      ],
      "source": [
        "# For + Lista + Dicionario\n",
        "\n",
        "Lista = [ 'Brasil', 'Angola', 'Uruaguai', 'Paraguai' ]\n",
        "\n",
        "Dicionario = {\n",
        "    'Brasil' : 'Real',\n",
        "    'Angola' : 'Kwanza',\n",
        "    'Uruaguai' : 'Peso URU',\n",
        "    'Paraguai' : 'Guarany'\n",
        "}\n",
        "\n",
        "for Paises in Lista:\n",
        "\n",
        "  if Paises == 'Angola':\n",
        "    print( f'Moeda do {Paises} é { Dicionario[Paises] }' )\n",
        "    print('Moeda do', Paises, 'é', Dicionario[Paises] )\n",
        "    print('Moeda do ' + str (Paises) + ' é ' + str(Dicionario[Paises] ) )\n",
        "  else:\n",
        "    pass"
      ]
    },
    {
      "cell_type": "markdown",
      "metadata": {
        "id": "7FpxhKe9FqbX"
      },
      "source": [
        "# **24º Estrutura de Loop WHILE**\n",
        "Python While Loop é usado para executar um bloco de instruções repetidamente até que uma determinada condição seja satisfeita. E quando a condição se torna falsa, a linha imediatamente após o loop no programa é executada. While loop se enquadra na categoria de iteração indefinida . A iteração indefinida significa que o número de vezes que o loop é executado não é especificado explicitamente com antecedência.<p>\n",
        "while expressão:\n",
        "*   loop\n",
        "\n",
        "\n"
      ]
    },
    {
      "cell_type": "code",
      "execution_count": 162,
      "metadata": {
        "colab": {
          "base_uri": "https://localhost:8080/"
        },
        "id": "v3CkR4oQGj7J",
        "outputId": "4c7bd2fe-0dd7-416f-c0ef-ef3a7f71f6dd"
      },
      "outputs": [
        {
          "name": "stdout",
          "output_type": "stream",
          "text": [
            "0\n",
            "1\n",
            "2\n",
            "3\n",
            "4\n",
            "5\n",
            "6\n",
            "7\n",
            "8\n",
            "9\n",
            "10\n"
          ]
        }
      ],
      "source": [
        "# While\n",
        "Loop = 0\n",
        "\n",
        "while Loop <= 10:\n",
        "  print( Loop )\n",
        "  Loop += 1"
      ]
    },
    {
      "cell_type": "code",
      "execution_count": 163,
      "metadata": {
        "colab": {
          "base_uri": "https://localhost:8080/"
        },
        "id": "TGZGO_WTXMwh",
        "outputId": "eb910bbf-96de-4bb5-d4b3-aa6ef9c119c2"
      },
      "outputs": [
        {
          "name": "stdout",
          "output_type": "stream",
          "text": [
            "0\n",
            "1\n",
            "2\n",
            "3\n",
            "4\n",
            "0\n",
            "1\n",
            "2\n",
            "3\n",
            "4\n",
            "5\n",
            "6\n",
            "7\n",
            "8\n",
            "9\n",
            "5\n",
            "6\n",
            "7\n",
            "8\n",
            "9\n",
            "10\n"
          ]
        }
      ],
      "source": [
        "# While\n",
        "Loop = 0\n",
        "\n",
        "while Loop <= 10:\n",
        "  print( Loop )\n",
        "  Loop += 1\n",
        "\n",
        "  if Loop == 5:\n",
        "    \n",
        "    for c in range(10):\n",
        "      print(c)"
      ]
    },
    {
      "cell_type": "code",
      "execution_count": 164,
      "metadata": {
        "colab": {
          "base_uri": "https://localhost:8080/"
        },
        "id": "L94HlSMBXMzM",
        "outputId": "f3d96a84-3d31-4984-d56f-88eb26266904"
      },
      "outputs": [
        {
          "name": "stdout",
          "output_type": "stream",
          "text": [
            "1 - 10\n",
            "1 - 8\n",
            "3 - 5\n",
            "1 - 8\n",
            "2 - 8\n",
            "0 - 5\n",
            "4 - 7\n",
            "5 - 5\n",
            "5 - 5\n",
            "2 - 8\n",
            "3 - 7\n",
            "3 - 9\n",
            "0 - 10\n",
            "6 - 5 FINALMENTE !!!!!!!!!!!\n"
          ]
        }
      ],
      "source": [
        "# While True\n",
        "# Joginho\n",
        "import random\n",
        "\n",
        "while True:\n",
        "\n",
        "  Jogador1 = random.randint(0, 6)\n",
        "  Jogador2 = random.randint(5, 10)\n",
        "\n",
        "  if Jogador1 > Jogador2:\n",
        "    print(Jogador1, '-', Jogador2, 'FINALMENTE !!!!!!!!!!!')\n",
        "    break\n",
        "\n",
        "  else:\n",
        "    print(Jogador1, '-', Jogador2)"
      ]
    },
    {
      "cell_type": "markdown",
      "metadata": {
        "id": "noodylU2GVbI"
      },
      "source": [
        "# **25º Estrutura de Quebra BREAK e CONTINUE**\n",
        "O uso de loops no Python automatiza e repete as tarefas de maneira eficiente. Mas, às vezes, pode surgir uma condição em que você deseja sair completamente do loop, pular uma iteração ou ignorar essa condição. Isso pode ser feito por instruções de controle de loop . As instruções de controle de loop alteram a execução de sua sequência normal. Quando a execução sai de um escopo, todos os objetos automáticos que foram criados nesse escopo são destruídos. Python suporta as seguintes instruções de controle."
      ]
    },
    {
      "cell_type": "code",
      "execution_count": 165,
      "metadata": {
        "colab": {
          "base_uri": "https://localhost:8080/"
        },
        "id": "MqjsMqmCF00z",
        "outputId": "3077967c-cdc6-4894-e51a-63968d2518bf"
      },
      "outputs": [
        {
          "name": "stdout",
          "output_type": "stream",
          "text": [
            "1\n",
            "2\n",
            "3\n",
            "Chegou\n"
          ]
        }
      ],
      "source": [
        "# For + Lista + IF + Break\n",
        "Lista_Paises = ['Brasil', 'Argentina', 'Uruguai', 'Chile', 'Paraguai', 'Bolivia', \n",
        "                'Equador', 'Colombia', 'Suriname, Guiane, Goianai France']\n",
        "Loop = 0\n",
        "\n",
        "for P in Lista_Paises:\n",
        "\n",
        "  if P == 'Chile':\n",
        "    print('Chegou')\n",
        "    break\n",
        "\n",
        "  else:\n",
        "    pass\n",
        "\n",
        "  Loop += 1\n",
        "  print( Loop )"
      ]
    },
    {
      "cell_type": "code",
      "execution_count": 166,
      "metadata": {
        "colab": {
          "base_uri": "https://localhost:8080/"
        },
        "id": "uo-bnZ7YXPBz",
        "outputId": "5dc185d1-fb08-495c-8aa1-53c8b67d2040"
      },
      "outputs": [
        {
          "name": "stdout",
          "output_type": "stream",
          "text": [
            "0\n",
            "1\n",
            "2\n",
            "3\n",
            "4\n",
            "0\n",
            "1\n",
            "2\n",
            "3\n",
            "4\n",
            "5\n",
            "6\n",
            "7\n",
            "8\n",
            "9\n"
          ]
        }
      ],
      "source": [
        "# While\n",
        "Loop = 0\n",
        "\n",
        "while Loop <= 10:\n",
        "  print( Loop )\n",
        "  Loop += 1\n",
        "\n",
        "  if Loop == 5:\n",
        "    \n",
        "    for c in range(10):\n",
        "      print(c)\n",
        "  \n",
        "    break"
      ]
    },
    {
      "cell_type": "code",
      "execution_count": 167,
      "metadata": {
        "colab": {
          "base_uri": "https://localhost:8080/"
        },
        "id": "g-Q3loRuaCAS",
        "outputId": "53ead85b-a54d-497d-811f-43f0b4dd3f5b"
      },
      "outputs": [
        {
          "name": "stdout",
          "output_type": "stream",
          "text": [
            "1º Continue continua sempre!!!!\n",
            "2º Continue continua sempre!!!!\n",
            "3º Continue continua sempre!!!!\n",
            "4º Continue continua sempre!!!!\n",
            "6º Continue continua sempre!!!!\n",
            "7º Continue continua sempre!!!!\n",
            "8º Continue continua sempre!!!!\n",
            "9º Continue continua sempre!!!!\n",
            "10º Continue continua sempre!!!!\n"
          ]
        }
      ],
      "source": [
        "# Loop de 1 a 10\n",
        "for i in range(1, 11):\n",
        " \n",
        "    # If i is equals to 6,\n",
        "    # continue to next iteration\n",
        "    # without printing\n",
        "    if i == 5:\n",
        "      continue\n",
        "      print(f'{i}º interação --> Estou no IF')\n",
        "        \n",
        "    else:\n",
        "        # otherwise print the value\n",
        "        # of i\n",
        "        print(f'{i}º Continue continua sempre!!!!')\n",
        "        #print(i)"
      ]
    },
    {
      "cell_type": "markdown",
      "metadata": {
        "id": "R_Am7FRBOnUC"
      },
      "source": [
        "# **26º Estrutura de Funções**\n",
        "Uma função é um bloco de código que só é executado quando é chamado.<p>\n",
        "Você pode passar dados, conhecidos como parâmetros, para uma função.<p>\n",
        "Uma função pode retornar dados como resultado.\n",
        "\n"
      ]
    },
    {
      "cell_type": "code",
      "execution_count": 168,
      "metadata": {
        "colab": {
          "base_uri": "https://localhost:8080/"
        },
        "id": "8GZLV-nCOusD",
        "outputId": "5c3d5bfc-4552-402e-e18c-672e82b76ae7"
      },
      "outputs": [
        {
          "name": "stdout",
          "output_type": "stream",
          "text": [
            "-57.778767\n"
          ]
        }
      ],
      "source": [
        "# Funções simples\n",
        "def Somar(Valor1, Valor2):\n",
        "  Soma = Valor1 + Valor2\n",
        "  print(Soma)\n",
        "\n",
        "Somar(-67.900, 10.121233)"
      ]
    },
    {
      "cell_type": "code",
      "execution_count": 169,
      "metadata": {
        "colab": {
          "base_uri": "https://localhost:8080/"
        },
        "id": "D15f-hGRXTyb",
        "outputId": "aa4003df-d315-4b0d-8201-5d1adb1864d3"
      },
      "outputs": [
        {
          "name": "stdout",
          "output_type": "stream",
          "text": [
            "********* PYTHON **************\n"
          ]
        }
      ],
      "source": [
        "def Boas_Vindas():\n",
        "  print('********* PYTHON **************')\n",
        "\n",
        "Boas_Vindas()"
      ]
    },
    {
      "cell_type": "code",
      "execution_count": 170,
      "metadata": {
        "colab": {
          "base_uri": "https://localhost:8080/"
        },
        "id": "ZCo_VY__XWV3",
        "outputId": "9320143e-4ac0-42e5-8324-ce235289d84c"
      },
      "outputs": [
        {
          "name": "stdout",
          "output_type": "stream",
          "text": [
            "Nome dele é: Odemir\n",
            "NADA!\n",
            "Nome dele é: Luigi\n",
            "NADA!\n",
            "Nome dele é: Mariana\n",
            "NADA!\n"
          ]
        }
      ],
      "source": [
        "from random import randint\n",
        "# Função\n",
        "def Sobrenome( Algum_Texto, Numero ):\n",
        "  print(f'Nome dele é: {Algum_Texto}')\n",
        "\n",
        "  if Numero >= 10:\n",
        "    print('Maior que 10')\n",
        "  else:\n",
        "    print('NADA!')\n",
        "\n",
        "Lista_Nomes = ['Odemir', 'Luigi', 'Mariana']\n",
        "\n",
        "for Nome in Lista_Nomes:\n",
        "  Sobrenome( Nome, randint(1,12) )"
      ]
    },
    {
      "cell_type": "markdown",
      "metadata": {
        "id": "fvEKA7fPOvIY"
      },
      "source": [
        "# **27º Estrutura Lambda**\n",
        "Uma função lambda é uma pequena função anônima.<p>\n",
        "Uma função lambda pode receber qualquer número de argumentos, mas pode ter apenas uma expressão."
      ]
    },
    {
      "cell_type": "code",
      "execution_count": 171,
      "metadata": {
        "colab": {
          "base_uri": "https://localhost:8080/"
        },
        "id": "hoEbekXhOxwZ",
        "outputId": "aef9bfff-f2a9-4912-ffb4-3b25d31e604c"
      },
      "outputs": [
        {
          "name": "stdout",
          "output_type": "stream",
          "text": [
            "20\n",
            "200\n"
          ]
        }
      ],
      "source": [
        "# Função\n",
        "Funcao = lambda valor: valor + 10\n",
        "print( Funcao( 10 ) )\n",
        "\n",
        "Funcao_02 = lambda valor1, valor2 : valor1 + valor2\n",
        "print( Funcao_02( 100 , 100 ) )"
      ]
    },
    {
      "cell_type": "code",
      "execution_count": 172,
      "metadata": {
        "colab": {
          "base_uri": "https://localhost:8080/",
          "height": 35
        },
        "id": "xolelYKrXcX5",
        "outputId": "46695b9e-393f-43db-99b3-cc3c70b2082e"
      },
      "outputs": [
        {
          "data": {
            "text/plain": [
              "'Verdadeiro'"
            ]
          },
          "execution_count": 172,
          "metadata": {},
          "output_type": "execute_result"
        }
      ],
      "source": [
        "# Função Lambda\n",
        "Nao_Faxa_isso = lambda Qualquer_Valor: 'Verdadeiro' if Qualquer_Valor % 2 == 0 else 'Falso'\n",
        "#Nao_Faxa_isso = lambda x: True if x % 2 == 0 else Falso\n",
        "Nao_Faxa_isso( 100 )"
      ]
    },
    {
      "cell_type": "markdown",
      "metadata": {
        "id": "Hs9bCzzEO188"
      },
      "source": [
        "# **28º Estrutura TRY**\n",
        "O **try** permite testar um bloco de código quanto a erros.<p>\n",
        "O **except** permite que você lide com o erro.<p>\n",
        "O **else** permite executar código quando não há erro. <p>\n",
        "O **finally** permite que você execute código, independentemente do resultado dos blocos try e except. <p>\n",
        "\n"
      ]
    },
    {
      "cell_type": "code",
      "execution_count": 173,
      "metadata": {
        "colab": {
          "base_uri": "https://localhost:8080/"
        },
        "id": "xyxiQY6oO4pP",
        "outputId": "5bc55737-6f14-4670-f179-c477fad9ec5d"
      },
      "outputs": [
        {
          "name": "stdout",
          "output_type": "stream",
          "text": [
            "Deu Ruim!!!\n"
          ]
        }
      ],
      "source": [
        "# \n",
        "try:\n",
        "  0 / 0 \n",
        "except:\n",
        "  print('Deu Ruim!!!')"
      ]
    },
    {
      "cell_type": "code",
      "execution_count": 174,
      "metadata": {
        "colab": {
          "base_uri": "https://localhost:8080/"
        },
        "id": "2SgAKDxBa6q6",
        "outputId": "9905e9ad-7d6e-4b62-d8f1-52b062b56529"
      },
      "outputs": [
        {
          "name": "stdout",
          "output_type": "stream",
          "text": [
            "Ops deu algum erro!\n",
            "Vou ser executado de qualquer forma\n"
          ]
        }
      ],
      "source": [
        "\n",
        "try:\n",
        "  print(Algo_Coisa_Que_Nao_Defini)\n",
        "\n",
        "except NameError:\n",
        "  print(\"Ops deu algum erro!\")\n",
        "\n",
        "finally:\n",
        "  print(\"Vou ser executado de qualquer forma\")"
      ]
    },
    {
      "cell_type": "markdown",
      "metadata": {
        "id": "JwEWcdRfPFyA"
      },
      "source": [
        "# 29° Estrutura de Classes/Objetos\n",
        "Python é uma linguagem de programação orientada a objetos.<p>\n",
        "Quase tudo em Python é um objeto, com suas propriedades e métodos.<p>\n",
        "Uma classe é como um construtor de objetos, ou um \"projeto\" para criar objetos."
      ]
    },
    {
      "cell_type": "code",
      "execution_count": 175,
      "metadata": {
        "id": "cfN8jl6ZhAI9"
      },
      "outputs": [],
      "source": [
        "class Pessoa:\n",
        "\n",
        "  # Metodo Construtor\n",
        "  def __init__(self, Nome, Idade):\n",
        "    self.Nome = Nome\n",
        "    self.Idade = Idade\n",
        "\n",
        "  def Boas_Vindas(self):\n",
        "    print('Olá sem benvindo: ', self.Nome)\n",
        "\n",
        "  def Recusado(self):\n",
        "    print('Seu acesso foi recusado!')\n",
        "\n",
        "  # Função\n",
        "  def Maior_Idade(self):\n",
        "    if self.Idade >= 18:\n",
        "      print('Usuário é maior de idade')\n",
        "      self.Boas_Vindas()\n",
        "    else:\n",
        "      print('Usuário é menor de Idade')\n",
        "      self.Recusado()"
      ]
    },
    {
      "cell_type": "code",
      "execution_count": 178,
      "metadata": {
        "id": "HIZOScMkhB0m"
      },
      "outputs": [],
      "source": [
        "Dados = Pessoa('Caneca', 12)"
      ]
    },
    {
      "cell_type": "code",
      "execution_count": 179,
      "metadata": {
        "colab": {
          "base_uri": "https://localhost:8080/"
        },
        "id": "2a8OFXZghB3D",
        "outputId": "3f4f6772-86e5-4884-d2d2-0cdb6f1b0f18"
      },
      "outputs": [
        {
          "name": "stdout",
          "output_type": "stream",
          "text": [
            "Usuário é menor de Idade\n",
            "Seu acesso foi recusado!\n"
          ]
        }
      ],
      "source": [
        "Dados.Maior_Idade()"
      ]
    },
    {
      "cell_type": "markdown",
      "metadata": {
        "id": "XtIq1njAfzDg"
      },
      "source": [
        "# **30º Módulos/Pacotes**\n",
        "Considere um módulo como sendo o mesmo que uma biblioteca de código.<p>\n",
        "Para instalar um pacote utilize o 'pip install'"
      ]
    },
    {
      "cell_type": "code",
      "execution_count": 180,
      "metadata": {
        "id": "r9T5J89bkZWp"
      },
      "outputs": [],
      "source": [
        "import time\n",
        "import datetime"
      ]
    },
    {
      "cell_type": "markdown",
      "metadata": {
        "id": "8PCXIVOMlHCQ"
      },
      "source": [
        "# **31° Print formatado**\n",
        "Existe diversas formas de utilizar prints no python"
      ]
    },
    {
      "cell_type": "code",
      "execution_count": 181,
      "metadata": {
        "colab": {
          "base_uri": "https://localhost:8080/"
        },
        "id": "rLs1tqm-lcbt",
        "outputId": "b1bd2631-8ee1-4fc7-ade9-e6656def74e0"
      },
      "outputs": [
        {
          "name": "stdout",
          "output_type": "stream",
          "text": [
            "Soma de 2 + 2 é: 4\n"
          ]
        }
      ],
      "source": [
        "print('Soma de 2 + 2 é:', 2 + 2 )"
      ]
    },
    {
      "cell_type": "code",
      "execution_count": 182,
      "metadata": {
        "colab": {
          "base_uri": "https://localhost:8080/"
        },
        "id": "bgr2MXLLlpcD",
        "outputId": "6382995f-18e5-428a-a54a-f7ea722c464d"
      },
      "outputs": [
        {
          "name": "stdout",
          "output_type": "stream",
          "text": [
            "Soma de 2 + 2 é: 4\n"
          ]
        }
      ],
      "source": [
        "print( f'Soma de 2 + 2 é: { round(2 + 2) }' )"
      ]
    },
    {
      "cell_type": "code",
      "execution_count": 183,
      "metadata": {
        "colab": {
          "base_uri": "https://localhost:8080/"
        },
        "id": "BceEEtaslxt5",
        "outputId": "38f11b5f-6f18-49a7-ed9d-6341c3c341aa"
      },
      "outputs": [
        {
          "name": "stdout",
          "output_type": "stream",
          "text": [
            "Soma de 2 + 2 é: 4\n"
          ]
        }
      ],
      "source": [
        "print('Soma de 2 + 2 é: {}'.format(2+2) )"
      ]
    }
  ],
  "metadata": {
    "colab": {
      "collapsed_sections": [
        "LeLUmWFPXSQ4",
        "YUdY6RPMX9QN",
        "4eGEIiIoZ5dd",
        "EsEsPiS1cGBs",
        "vTq_Y3g5dao5",
        "4H9ud-NqrKE8",
        "_vyTISBrt9BD",
        "nXb3f4OXv1VQ",
        "UC0xUa3UurIW",
        "IF8GdirtxBrk",
        "HGzNUJkJ2N7C",
        "F9_PeEHo7qKT",
        "6Lqd3mrZ8UtD",
        "52wZm8e68wSF",
        "RrCYnXRI89b_",
        "DbMZYX6S_Fwb",
        "tlAQIqszEgDi",
        "AkzpmFB37MR-",
        "4bG8pLZYINAF",
        "evGNmtIZ9j_b",
        "_ItJifJkCggh",
        "sa4ffKUyDbbX",
        "loDAbkKVFBQo",
        "7FpxhKe9FqbX",
        "noodylU2GVbI",
        "R_Am7FRBOnUC",
        "fvEKA7fPOvIY",
        "Hs9bCzzEO188",
        "JwEWcdRfPFyA",
        "XtIq1njAfzDg",
        "8PCXIVOMlHCQ",
        "cZ7X0J1b44DG"
      ],
      "provenance": []
    },
    "kernelspec": {
      "display_name": "Python 3",
      "language": "python",
      "name": "python3"
    },
    "language_info": {
      "codemirror_mode": {
        "name": "ipython",
        "version": 3
      },
      "file_extension": ".py",
      "mimetype": "text/x-python",
      "name": "python",
      "nbconvert_exporter": "python",
      "pygments_lexer": "ipython3",
      "version": "3.11.1 (tags/v3.11.1:a7a450f, Dec  6 2022, 19:58:39) [MSC v.1934 64 bit (AMD64)]"
    },
    "vscode": {
      "interpreter": {
        "hash": "5238573367df39f7286bb46f9ff5f08f63a01a80960060ce41e3c79b190280fa"
      }
    }
  },
  "nbformat": 4,
  "nbformat_minor": 0
}
