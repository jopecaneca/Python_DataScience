{
  "cells": [
    {
      "cell_type": "code",
      "execution_count": 1,
      "metadata": {
        "id": "p5k7YhrkKcma"
      },
      "outputs": [],
      "source": [
        "# Biblioteca para modelagem de dados\n",
        "import pandas as pd\n",
        "\n",
        "# Biblioteca para recursos matemáticos\n",
        "import numpy as np\n",
        "\n",
        "# Biblioteca para plotagem de dados\n",
        "import matplotlib.pyplot as plt"
      ]
    },
    {
      "cell_type": "code",
      "execution_count": 2,
      "metadata": {
        "colab": {
          "base_uri": "https://localhost:8080/"
        },
        "id": "QMIKdDhU_npX",
        "outputId": "c800ca25-43f4-44bf-95d2-3407fea0f25a"
      },
      "outputs": [
        {
          "data": {
            "text/plain": [
              "1º    1\n",
              "2º    3\n",
              "3º    5\n",
              "4º    7\n",
              "5º    9\n",
              "dtype: int64"
            ]
          },
          "execution_count": 2,
          "metadata": {},
          "output_type": "execute_result"
        }
      ],
      "source": [
        "# Lista com os rotulos\n",
        "Labels = ['1º', '2º', '3º', '4º', '5º']\n",
        "\n",
        "# Lista com os valores\n",
        "Valores = [1, 3, 5, 7, 9]\n",
        "\n",
        "# Criando a base de dados com as listas\n",
        "Serie = pd.Series( data=Valores, index=Labels )\n",
        "Serie"
      ]
    },
    {
      "cell_type": "code",
      "execution_count": 3,
      "metadata": {
        "colab": {
          "base_uri": "https://localhost:8080/"
        },
        "id": "RwUyzVqNCoJ8",
        "outputId": "53256b36-d5a9-49e9-ba67-46d3aff5c335"
      },
      "outputs": [
        {
          "data": {
            "text/plain": [
              "9"
            ]
          },
          "execution_count": 3,
          "metadata": {},
          "output_type": "execute_result"
        }
      ],
      "source": [
        "#Acessando um valor da base de dados\n",
        "Serie['5º']"
      ]
    },
    {
      "cell_type": "code",
      "execution_count": 4,
      "metadata": {
        "colab": {
          "base_uri": "https://localhost:8080/"
        },
        "id": "XdZSiOZWEd7G",
        "outputId": "f5ddd7b4-a0b9-4049-af76-42d21d153f8e"
      },
      "outputs": [
        {
          "data": {
            "text/plain": [
              "1º     2\n",
              "2º     6\n",
              "3º    10\n",
              "4º    14\n",
              "5º    18\n",
              "dtype: int64"
            ]
          },
          "execution_count": 4,
          "metadata": {},
          "output_type": "execute_result"
        }
      ],
      "source": [
        "# Multiplicando\n",
        "Serie * 2"
      ]
    },
    {
      "cell_type": "code",
      "execution_count": 5,
      "metadata": {
        "colab": {
          "base_uri": "https://localhost:8080/"
        },
        "id": "o3ltMXQ_HGTO",
        "outputId": "cc9c6d32-c83e-4e5d-c4b3-29a9f9ff1b59"
      },
      "outputs": [
        {
          "data": {
            "text/plain": [
              "1º     51\n",
              "2º    103\n",
              "3º    155\n",
              "4º    207\n",
              "5º    259\n",
              "dtype: int64"
            ]
          },
          "execution_count": 5,
          "metadata": {},
          "output_type": "execute_result"
        }
      ],
      "source": [
        "#Criando nova base de dados\n",
        "Serie_Nova = pd.Series( data=[50,100,150, 200, 250], index=Labels )\n",
        "\n",
        "#Adicionar os valores da primeira com os da segunda, de acordo a ordem na lista\n",
        "Serie + Serie_Nova"
      ]
    },
    {
      "cell_type": "code",
      "execution_count": 6,
      "metadata": {
        "colab": {
          "base_uri": "https://localhost:8080/",
          "height": 133
        },
        "id": "IyqAUA01CoTF",
        "outputId": "28af719a-dafb-48d3-efde-4fde601b509a"
      },
      "outputs": [
        {
          "data": {
            "text/html": [
              "<div>\n",
              "<style scoped>\n",
              "    .dataframe tbody tr th:only-of-type {\n",
              "        vertical-align: middle;\n",
              "    }\n",
              "\n",
              "    .dataframe tbody tr th {\n",
              "        vertical-align: top;\n",
              "    }\n",
              "\n",
              "    .dataframe thead th {\n",
              "        text-align: right;\n",
              "    }\n",
              "</style>\n",
              "<table border=\"1\" class=\"dataframe\">\n",
              "  <thead>\n",
              "    <tr style=\"text-align: right;\">\n",
              "      <th></th>\n",
              "      <th>A</th>\n",
              "      <th>B</th>\n",
              "      <th>C</th>\n",
              "      <th>D</th>\n",
              "    </tr>\n",
              "  </thead>\n",
              "  <tbody>\n",
              "    <tr>\n",
              "      <th>Linha 1</th>\n",
              "      <td>1</td>\n",
              "      <td>-3</td>\n",
              "      <td>0</td>\n",
              "      <td>100</td>\n",
              "    </tr>\n",
              "    <tr>\n",
              "      <th>Linha 2</th>\n",
              "      <td>2</td>\n",
              "      <td>-2</td>\n",
              "      <td>10</td>\n",
              "      <td>250</td>\n",
              "    </tr>\n",
              "    <tr>\n",
              "      <th>Linha 3</th>\n",
              "      <td>3</td>\n",
              "      <td>-1</td>\n",
              "      <td>20</td>\n",
              "      <td>525</td>\n",
              "    </tr>\n",
              "    <tr>\n",
              "      <th>Linha 4</th>\n",
              "      <td>4</td>\n",
              "      <td>0</td>\n",
              "      <td>35</td>\n",
              "      <td>35</td>\n",
              "    </tr>\n",
              "  </tbody>\n",
              "</table>\n",
              "</div>"
            ],
            "text/plain": [
              "         A  B   C    D\n",
              "Linha 1  1 -3   0  100\n",
              "Linha 2  2 -2  10  250\n",
              "Linha 3  3 -1  20  525\n",
              "Linha 4  4  0  35   35"
            ]
          },
          "execution_count": 6,
          "metadata": {},
          "output_type": "execute_result"
        }
      ],
      "source": [
        "# Criando um dicionário\n",
        "Dicionario = {\n",
        "    'A' : [1, 2, 3, 4],\n",
        "    'B' : [-3, -2, -1, 0],\n",
        "    'C' : [0, 10, 20, 35], \n",
        "    'D' : [100, 250, 525, 35] }\n",
        "\n",
        "# Criando uma lista com os labels\n",
        "Label = ['Linha 1', 'Linha 2', 'Linha 3', 'Linha 4']\n",
        "\n",
        "DataFrame_01 = pd.DataFrame( Dicionario, index=Label )\n",
        "DataFrame_01"
      ]
    },
    {
      "cell_type": "code",
      "execution_count": 7,
      "metadata": {
        "colab": {
          "base_uri": "https://localhost:8080/"
        },
        "id": "DzqOJazGCoV-",
        "outputId": "419179b0-f6d9-4915-865c-0c02f387be34"
      },
      "outputs": [
        {
          "data": {
            "text/plain": [
              "Linha 1     0\n",
              "Linha 2    10\n",
              "Linha 3    20\n",
              "Linha 4    35\n",
              "Name: C, dtype: int64"
            ]
          },
          "execution_count": 7,
          "metadata": {},
          "output_type": "execute_result"
        }
      ],
      "source": [
        "#Acessar um valor do dataframe\n",
        "DataFrame_01['C']"
      ]
    },
    {
      "cell_type": "code",
      "execution_count": 8,
      "metadata": {
        "colab": {
          "base_uri": "https://localhost:8080/",
          "height": 133
        },
        "id": "ykccrjRJCoYj",
        "outputId": "cd62346a-aaa3-47d7-a282-2d370aff2748"
      },
      "outputs": [
        {
          "data": {
            "text/html": [
              "<div>\n",
              "<style scoped>\n",
              "    .dataframe tbody tr th:only-of-type {\n",
              "        vertical-align: middle;\n",
              "    }\n",
              "\n",
              "    .dataframe tbody tr th {\n",
              "        vertical-align: top;\n",
              "    }\n",
              "\n",
              "    .dataframe thead th {\n",
              "        text-align: right;\n",
              "    }\n",
              "</style>\n",
              "<table border=\"1\" class=\"dataframe\">\n",
              "  <thead>\n",
              "    <tr style=\"text-align: right;\">\n",
              "      <th></th>\n",
              "      <th>A</th>\n",
              "      <th>B</th>\n",
              "      <th>D</th>\n",
              "    </tr>\n",
              "  </thead>\n",
              "  <tbody>\n",
              "    <tr>\n",
              "      <th>Linha 1</th>\n",
              "      <td>1</td>\n",
              "      <td>-3</td>\n",
              "      <td>100</td>\n",
              "    </tr>\n",
              "    <tr>\n",
              "      <th>Linha 2</th>\n",
              "      <td>2</td>\n",
              "      <td>-2</td>\n",
              "      <td>250</td>\n",
              "    </tr>\n",
              "    <tr>\n",
              "      <th>Linha 3</th>\n",
              "      <td>3</td>\n",
              "      <td>-1</td>\n",
              "      <td>525</td>\n",
              "    </tr>\n",
              "    <tr>\n",
              "      <th>Linha 4</th>\n",
              "      <td>4</td>\n",
              "      <td>0</td>\n",
              "      <td>35</td>\n",
              "    </tr>\n",
              "  </tbody>\n",
              "</table>\n",
              "</div>"
            ],
            "text/plain": [
              "         A  B    D\n",
              "Linha 1  1 -3  100\n",
              "Linha 2  2 -2  250\n",
              "Linha 3  3 -1  525\n",
              "Linha 4  4  0   35"
            ]
          },
          "execution_count": 8,
          "metadata": {},
          "output_type": "execute_result"
        }
      ],
      "source": [
        "#Acessar mais de um registo do dataframe\n",
        "DataFrame_01[['A', 'B', 'D']]"
      ]
    },
    {
      "cell_type": "code",
      "execution_count": 9,
      "metadata": {
        "colab": {
          "base_uri": "https://localhost:8080/",
          "height": 133
        },
        "id": "9issFUC9CobZ",
        "outputId": "1181e1b6-5fd9-4a3b-db51-8d20cb0a41fb"
      },
      "outputs": [
        {
          "data": {
            "text/html": [
              "<div>\n",
              "<style scoped>\n",
              "    .dataframe tbody tr th:only-of-type {\n",
              "        vertical-align: middle;\n",
              "    }\n",
              "\n",
              "    .dataframe tbody tr th {\n",
              "        vertical-align: top;\n",
              "    }\n",
              "\n",
              "    .dataframe thead th {\n",
              "        text-align: right;\n",
              "    }\n",
              "</style>\n",
              "<table border=\"1\" class=\"dataframe\">\n",
              "  <thead>\n",
              "    <tr style=\"text-align: right;\">\n",
              "      <th></th>\n",
              "      <th>A</th>\n",
              "      <th>B</th>\n",
              "      <th>C</th>\n",
              "      <th>D</th>\n",
              "      <th>Nova_Coluna</th>\n",
              "    </tr>\n",
              "  </thead>\n",
              "  <tbody>\n",
              "    <tr>\n",
              "      <th>Linha 1</th>\n",
              "      <td>1</td>\n",
              "      <td>-3</td>\n",
              "      <td>0</td>\n",
              "      <td>100</td>\n",
              "      <td>-3</td>\n",
              "    </tr>\n",
              "    <tr>\n",
              "      <th>Linha 2</th>\n",
              "      <td>2</td>\n",
              "      <td>-2</td>\n",
              "      <td>10</td>\n",
              "      <td>250</td>\n",
              "      <td>-4</td>\n",
              "    </tr>\n",
              "    <tr>\n",
              "      <th>Linha 3</th>\n",
              "      <td>3</td>\n",
              "      <td>-1</td>\n",
              "      <td>20</td>\n",
              "      <td>525</td>\n",
              "      <td>-3</td>\n",
              "    </tr>\n",
              "    <tr>\n",
              "      <th>Linha 4</th>\n",
              "      <td>4</td>\n",
              "      <td>0</td>\n",
              "      <td>35</td>\n",
              "      <td>35</td>\n",
              "      <td>0</td>\n",
              "    </tr>\n",
              "  </tbody>\n",
              "</table>\n",
              "</div>"
            ],
            "text/plain": [
              "         A  B   C    D  Nova_Coluna\n",
              "Linha 1  1 -3   0  100           -3\n",
              "Linha 2  2 -2  10  250           -4\n",
              "Linha 3  3 -1  20  525           -3\n",
              "Linha 4  4  0  35   35            0"
            ]
          },
          "execution_count": 9,
          "metadata": {},
          "output_type": "execute_result"
        }
      ],
      "source": [
        "#Criando nova coluna\n",
        "DataFrame_01['Nova_Coluna'] = DataFrame_01['A'] * DataFrame_01['B']\n",
        "DataFrame_01"
      ]
    },
    {
      "cell_type": "code",
      "execution_count": 10,
      "metadata": {
        "colab": {
          "base_uri": "https://localhost:8080/",
          "height": 133
        },
        "id": "ZxFRYqqgb4xk",
        "outputId": "91ad8cac-6950-4b6f-f842-43de25571691"
      },
      "outputs": [
        {
          "data": {
            "text/html": [
              "<div>\n",
              "<style scoped>\n",
              "    .dataframe tbody tr th:only-of-type {\n",
              "        vertical-align: middle;\n",
              "    }\n",
              "\n",
              "    .dataframe tbody tr th {\n",
              "        vertical-align: top;\n",
              "    }\n",
              "\n",
              "    .dataframe thead th {\n",
              "        text-align: right;\n",
              "    }\n",
              "</style>\n",
              "<table border=\"1\" class=\"dataframe\">\n",
              "  <thead>\n",
              "    <tr style=\"text-align: right;\">\n",
              "      <th></th>\n",
              "      <th>A</th>\n",
              "      <th>B</th>\n",
              "      <th>C</th>\n",
              "      <th>D</th>\n",
              "    </tr>\n",
              "  </thead>\n",
              "  <tbody>\n",
              "    <tr>\n",
              "      <th>Linha 1</th>\n",
              "      <td>1</td>\n",
              "      <td>-3</td>\n",
              "      <td>0</td>\n",
              "      <td>100</td>\n",
              "    </tr>\n",
              "    <tr>\n",
              "      <th>Linha 2</th>\n",
              "      <td>2</td>\n",
              "      <td>-2</td>\n",
              "      <td>10</td>\n",
              "      <td>250</td>\n",
              "    </tr>\n",
              "    <tr>\n",
              "      <th>Linha 3</th>\n",
              "      <td>3</td>\n",
              "      <td>-1</td>\n",
              "      <td>20</td>\n",
              "      <td>525</td>\n",
              "    </tr>\n",
              "    <tr>\n",
              "      <th>Linha 4</th>\n",
              "      <td>4</td>\n",
              "      <td>0</td>\n",
              "      <td>35</td>\n",
              "      <td>35</td>\n",
              "    </tr>\n",
              "  </tbody>\n",
              "</table>\n",
              "</div>"
            ],
            "text/plain": [
              "         A  B   C    D\n",
              "Linha 1  1 -3   0  100\n",
              "Linha 2  2 -2  10  250\n",
              "Linha 3  3 -1  20  525\n",
              "Linha 4  4  0  35   35"
            ]
          },
          "execution_count": 10,
          "metadata": {},
          "output_type": "execute_result"
        }
      ],
      "source": [
        "#Deletar uma coluna\n",
        "DataFrame_01.drop('Nova_Coluna', axis=1, inplace=True)\n",
        "DataFrame_01"
      ]
    },
    {
      "cell_type": "code",
      "execution_count": 11,
      "metadata": {
        "colab": {
          "base_uri": "https://localhost:8080/"
        },
        "id": "mORh8qrPb459",
        "outputId": "3f63a65b-3ae1-43f5-e5f3-09e4a87ad865"
      },
      "outputs": [
        {
          "data": {
            "text/plain": [
              "A      1\n",
              "B     -3\n",
              "C      0\n",
              "D    100\n",
              "Name: Linha 1, dtype: int64"
            ]
          },
          "execution_count": 11,
          "metadata": {},
          "output_type": "execute_result"
        }
      ],
      "source": [
        "#Acessar ao valor de uma linha\n",
        "DataFrame_01.loc['Linha 1']"
      ]
    },
    {
      "cell_type": "code",
      "execution_count": 12,
      "metadata": {
        "colab": {
          "base_uri": "https://localhost:8080/",
          "height": 104
        },
        "id": "NUZ9MDyUeGRs",
        "outputId": "2ddab1ec-04bc-4cb1-c087-09edf24c0fac"
      },
      "outputs": [
        {
          "data": {
            "text/html": [
              "<div>\n",
              "<style scoped>\n",
              "    .dataframe tbody tr th:only-of-type {\n",
              "        vertical-align: middle;\n",
              "    }\n",
              "\n",
              "    .dataframe tbody tr th {\n",
              "        vertical-align: top;\n",
              "    }\n",
              "\n",
              "    .dataframe thead th {\n",
              "        text-align: right;\n",
              "    }\n",
              "</style>\n",
              "<table border=\"1\" class=\"dataframe\">\n",
              "  <thead>\n",
              "    <tr style=\"text-align: right;\">\n",
              "      <th></th>\n",
              "      <th>A</th>\n",
              "      <th>C</th>\n",
              "    </tr>\n",
              "  </thead>\n",
              "  <tbody>\n",
              "    <tr>\n",
              "      <th>Linha 1</th>\n",
              "      <td>1</td>\n",
              "      <td>0</td>\n",
              "    </tr>\n",
              "    <tr>\n",
              "      <th>Linha 3</th>\n",
              "      <td>3</td>\n",
              "      <td>20</td>\n",
              "    </tr>\n",
              "  </tbody>\n",
              "</table>\n",
              "</div>"
            ],
            "text/plain": [
              "         A   C\n",
              "Linha 1  1   0\n",
              "Linha 3  3  20"
            ]
          },
          "execution_count": 12,
          "metadata": {},
          "output_type": "execute_result"
        }
      ],
      "source": [
        "#Acessar valor de linhas e colunas\n",
        "DataFrame_01.loc[['Linha 1','Linha 3' ], ['A', 'C']]"
      ]
    },
    {
      "cell_type": "code",
      "execution_count": 13,
      "metadata": {
        "colab": {
          "base_uri": "https://localhost:8080/",
          "height": 133
        },
        "id": "ZMd3uw1ceGVa",
        "outputId": "49d41376-a63d-4324-d311-f469573f6584"
      },
      "outputs": [
        {
          "data": {
            "text/html": [
              "<div>\n",
              "<style scoped>\n",
              "    .dataframe tbody tr th:only-of-type {\n",
              "        vertical-align: middle;\n",
              "    }\n",
              "\n",
              "    .dataframe tbody tr th {\n",
              "        vertical-align: top;\n",
              "    }\n",
              "\n",
              "    .dataframe thead th {\n",
              "        text-align: right;\n",
              "    }\n",
              "</style>\n",
              "<table border=\"1\" class=\"dataframe\">\n",
              "  <thead>\n",
              "    <tr style=\"text-align: right;\">\n",
              "      <th></th>\n",
              "      <th>A</th>\n",
              "      <th>B</th>\n",
              "      <th>C</th>\n",
              "      <th>D</th>\n",
              "    </tr>\n",
              "  </thead>\n",
              "  <tbody>\n",
              "    <tr>\n",
              "      <th>Linha 1</th>\n",
              "      <td>1</td>\n",
              "      <td>-3</td>\n",
              "      <td>0</td>\n",
              "      <td>100</td>\n",
              "    </tr>\n",
              "    <tr>\n",
              "      <th>Linha 2</th>\n",
              "      <td>2</td>\n",
              "      <td>-2</td>\n",
              "      <td>10</td>\n",
              "      <td>250</td>\n",
              "    </tr>\n",
              "    <tr>\n",
              "      <th>Linha 3</th>\n",
              "      <td>3</td>\n",
              "      <td>-1</td>\n",
              "      <td>20</td>\n",
              "      <td>525</td>\n",
              "    </tr>\n",
              "  </tbody>\n",
              "</table>\n",
              "</div>"
            ],
            "text/plain": [
              "         A  B   C    D\n",
              "Linha 1  1 -3   0  100\n",
              "Linha 2  2 -2  10  250\n",
              "Linha 3  3 -1  20  525"
            ]
          },
          "execution_count": 13,
          "metadata": {},
          "output_type": "execute_result"
        }
      ],
      "source": [
        "#Acessar valores de linhas e colunas pela posicao\n",
        "DataFrame_01.iloc[0:3, 0:]"
      ]
    },
    {
      "cell_type": "code",
      "execution_count": 14,
      "metadata": {
        "colab": {
          "base_uri": "https://localhost:8080/",
          "height": 133
        },
        "id": "LP5IICz1eGay",
        "outputId": "6c8accc9-6098-4a9d-8d5c-68cef570d9e4"
      },
      "outputs": [
        {
          "data": {
            "text/html": [
              "<div>\n",
              "<style scoped>\n",
              "    .dataframe tbody tr th:only-of-type {\n",
              "        vertical-align: middle;\n",
              "    }\n",
              "\n",
              "    .dataframe tbody tr th {\n",
              "        vertical-align: top;\n",
              "    }\n",
              "\n",
              "    .dataframe thead th {\n",
              "        text-align: right;\n",
              "    }\n",
              "</style>\n",
              "<table border=\"1\" class=\"dataframe\">\n",
              "  <thead>\n",
              "    <tr style=\"text-align: right;\">\n",
              "      <th></th>\n",
              "      <th>A</th>\n",
              "      <th>B</th>\n",
              "      <th>C</th>\n",
              "      <th>D</th>\n",
              "    </tr>\n",
              "  </thead>\n",
              "  <tbody>\n",
              "    <tr>\n",
              "      <th>Linha 1</th>\n",
              "      <td>True</td>\n",
              "      <td>False</td>\n",
              "      <td>False</td>\n",
              "      <td>True</td>\n",
              "    </tr>\n",
              "    <tr>\n",
              "      <th>Linha 2</th>\n",
              "      <td>True</td>\n",
              "      <td>False</td>\n",
              "      <td>True</td>\n",
              "      <td>True</td>\n",
              "    </tr>\n",
              "    <tr>\n",
              "      <th>Linha 3</th>\n",
              "      <td>True</td>\n",
              "      <td>False</td>\n",
              "      <td>True</td>\n",
              "      <td>True</td>\n",
              "    </tr>\n",
              "    <tr>\n",
              "      <th>Linha 4</th>\n",
              "      <td>True</td>\n",
              "      <td>False</td>\n",
              "      <td>True</td>\n",
              "      <td>True</td>\n",
              "    </tr>\n",
              "  </tbody>\n",
              "</table>\n",
              "</div>"
            ],
            "text/plain": [
              "            A      B      C     D\n",
              "Linha 1  True  False  False  True\n",
              "Linha 2  True  False   True  True\n",
              "Linha 3  True  False   True  True\n",
              "Linha 4  True  False   True  True"
            ]
          },
          "execution_count": 14,
          "metadata": {},
          "output_type": "execute_result"
        }
      ],
      "source": [
        "#Buscar dados no dataframe que são maiores que zero 0\n",
        "DataFrame_01 > 0"
      ]
    },
    {
      "cell_type": "code",
      "execution_count": 15,
      "metadata": {
        "colab": {
          "base_uri": "https://localhost:8080/"
        },
        "id": "yBKsobtub4-p",
        "outputId": "ab57e9e1-70ca-454a-e96d-35105f334e01"
      },
      "outputs": [
        {
          "data": {
            "text/plain": [
              "Linha 1     0\n",
              "Linha 2    10\n",
              "Linha 3    20\n",
              "Linha 4    35\n",
              "Name: C, dtype: int64"
            ]
          },
          "execution_count": 15,
          "metadata": {},
          "output_type": "execute_result"
        }
      ],
      "source": [
        "DataFrame_01[ DataFrame_01['D'] > 0 ]['C']"
      ]
    },
    {
      "cell_type": "code",
      "execution_count": 16,
      "metadata": {
        "colab": {
          "base_uri": "https://localhost:8080/"
        },
        "id": "pci5Rhx4hZlM",
        "outputId": "250f8cf1-1e5e-4949-9861-03712b0316e3"
      },
      "outputs": [
        {
          "data": {
            "text/plain": [
              "Linha 2    2\n",
              "Linha 3    3\n",
              "Linha 4    4\n",
              "Name: A, dtype: int64"
            ]
          },
          "execution_count": 16,
          "metadata": {},
          "output_type": "execute_result"
        }
      ],
      "source": [
        "Filtro = DataFrame_01['C'] > 0\n",
        "DataFrame_02 = DataFrame_01[Filtro]\n",
        "DataFrame_02['A']"
      ]
    },
    {
      "cell_type": "code",
      "execution_count": 17,
      "metadata": {
        "colab": {
          "base_uri": "https://localhost:8080/",
          "height": 104
        },
        "id": "ln8L8tw7hZrK",
        "outputId": "235a3beb-cb32-4bf2-a02a-33af6949e2ec"
      },
      "outputs": [
        {
          "data": {
            "text/html": [
              "<div>\n",
              "<style scoped>\n",
              "    .dataframe tbody tr th:only-of-type {\n",
              "        vertical-align: middle;\n",
              "    }\n",
              "\n",
              "    .dataframe tbody tr th {\n",
              "        vertical-align: top;\n",
              "    }\n",
              "\n",
              "    .dataframe thead th {\n",
              "        text-align: right;\n",
              "    }\n",
              "</style>\n",
              "<table border=\"1\" class=\"dataframe\">\n",
              "  <thead>\n",
              "    <tr style=\"text-align: right;\">\n",
              "      <th></th>\n",
              "      <th>A</th>\n",
              "      <th>B</th>\n",
              "      <th>C</th>\n",
              "      <th>D</th>\n",
              "    </tr>\n",
              "  </thead>\n",
              "  <tbody>\n",
              "    <tr>\n",
              "      <th>Linha 2</th>\n",
              "      <td>2</td>\n",
              "      <td>-2</td>\n",
              "      <td>10</td>\n",
              "      <td>250</td>\n",
              "    </tr>\n",
              "    <tr>\n",
              "      <th>Linha 3</th>\n",
              "      <td>3</td>\n",
              "      <td>-1</td>\n",
              "      <td>20</td>\n",
              "      <td>525</td>\n",
              "    </tr>\n",
              "    <tr>\n",
              "      <th>Linha 4</th>\n",
              "      <td>4</td>\n",
              "      <td>0</td>\n",
              "      <td>35</td>\n",
              "      <td>35</td>\n",
              "    </tr>\n",
              "  </tbody>\n",
              "</table>\n",
              "</div>"
            ],
            "text/plain": [
              "         A  B   C    D\n",
              "Linha 2  2 -2  10  250\n",
              "Linha 3  3 -1  20  525\n",
              "Linha 4  4  0  35   35"
            ]
          },
          "execution_count": 17,
          "metadata": {},
          "output_type": "execute_result"
        }
      ],
      "source": [
        "DataFrame_01[\n",
        "  ( DataFrame_01['A'] > 1 ) & ( DataFrame_01['C'] > 0 )\n",
        "]"
      ]
    },
    {
      "cell_type": "code",
      "execution_count": 18,
      "metadata": {
        "colab": {
          "base_uri": "https://localhost:8080/",
          "height": 133
        },
        "id": "7Cv-Y7lwhZyz",
        "outputId": "14be21fd-f2cd-4527-d669-3ef327b9e01e"
      },
      "outputs": [
        {
          "data": {
            "text/html": [
              "<div>\n",
              "<style scoped>\n",
              "    .dataframe tbody tr th:only-of-type {\n",
              "        vertical-align: middle;\n",
              "    }\n",
              "\n",
              "    .dataframe tbody tr th {\n",
              "        vertical-align: top;\n",
              "    }\n",
              "\n",
              "    .dataframe thead th {\n",
              "        text-align: right;\n",
              "    }\n",
              "</style>\n",
              "<table border=\"1\" class=\"dataframe\">\n",
              "  <thead>\n",
              "    <tr style=\"text-align: right;\">\n",
              "      <th></th>\n",
              "      <th>index</th>\n",
              "      <th>A</th>\n",
              "      <th>B</th>\n",
              "      <th>C</th>\n",
              "      <th>D</th>\n",
              "    </tr>\n",
              "  </thead>\n",
              "  <tbody>\n",
              "    <tr>\n",
              "      <th>0</th>\n",
              "      <td>Linha 1</td>\n",
              "      <td>1</td>\n",
              "      <td>-3</td>\n",
              "      <td>0</td>\n",
              "      <td>100</td>\n",
              "    </tr>\n",
              "    <tr>\n",
              "      <th>1</th>\n",
              "      <td>Linha 2</td>\n",
              "      <td>2</td>\n",
              "      <td>-2</td>\n",
              "      <td>10</td>\n",
              "      <td>250</td>\n",
              "    </tr>\n",
              "    <tr>\n",
              "      <th>2</th>\n",
              "      <td>Linha 3</td>\n",
              "      <td>3</td>\n",
              "      <td>-1</td>\n",
              "      <td>20</td>\n",
              "      <td>525</td>\n",
              "    </tr>\n",
              "    <tr>\n",
              "      <th>3</th>\n",
              "      <td>Linha 4</td>\n",
              "      <td>4</td>\n",
              "      <td>0</td>\n",
              "      <td>35</td>\n",
              "      <td>35</td>\n",
              "    </tr>\n",
              "  </tbody>\n",
              "</table>\n",
              "</div>"
            ],
            "text/plain": [
              "     index  A  B   C    D\n",
              "0  Linha 1  1 -3   0  100\n",
              "1  Linha 2  2 -2  10  250\n",
              "2  Linha 3  3 -1  20  525\n",
              "3  Linha 4  4  0  35   35"
            ]
          },
          "execution_count": 18,
          "metadata": {},
          "output_type": "execute_result"
        }
      ],
      "source": [
        "DataFrame_01.reset_index()"
      ]
    },
    {
      "cell_type": "code",
      "execution_count": 19,
      "metadata": {
        "colab": {
          "base_uri": "https://localhost:8080/",
          "height": 133
        },
        "id": "vsWequRLhZ2X",
        "outputId": "7df60421-f5b6-4102-e67b-337c3f1bb4e4"
      },
      "outputs": [
        {
          "data": {
            "text/html": [
              "<div>\n",
              "<style scoped>\n",
              "    .dataframe tbody tr th:only-of-type {\n",
              "        vertical-align: middle;\n",
              "    }\n",
              "\n",
              "    .dataframe tbody tr th {\n",
              "        vertical-align: top;\n",
              "    }\n",
              "\n",
              "    .dataframe thead th {\n",
              "        text-align: right;\n",
              "    }\n",
              "</style>\n",
              "<table border=\"1\" class=\"dataframe\">\n",
              "  <thead>\n",
              "    <tr style=\"text-align: right;\">\n",
              "      <th></th>\n",
              "      <th>A</th>\n",
              "      <th>B</th>\n",
              "      <th>C</th>\n",
              "      <th>D</th>\n",
              "    </tr>\n",
              "  </thead>\n",
              "  <tbody>\n",
              "    <tr>\n",
              "      <th>Linha 1</th>\n",
              "      <td>1</td>\n",
              "      <td>-3</td>\n",
              "      <td>0</td>\n",
              "      <td>100</td>\n",
              "    </tr>\n",
              "    <tr>\n",
              "      <th>Linha 2</th>\n",
              "      <td>2</td>\n",
              "      <td>-2</td>\n",
              "      <td>10</td>\n",
              "      <td>250</td>\n",
              "    </tr>\n",
              "    <tr>\n",
              "      <th>Linha 3</th>\n",
              "      <td>3</td>\n",
              "      <td>-1</td>\n",
              "      <td>20</td>\n",
              "      <td>525</td>\n",
              "    </tr>\n",
              "    <tr>\n",
              "      <th>Linha 4</th>\n",
              "      <td>4</td>\n",
              "      <td>0</td>\n",
              "      <td>35</td>\n",
              "      <td>35</td>\n",
              "    </tr>\n",
              "  </tbody>\n",
              "</table>\n",
              "</div>"
            ],
            "text/plain": [
              "         A  B   C    D\n",
              "Linha 1  1 -3   0  100\n",
              "Linha 2  2 -2  10  250\n",
              "Linha 3  3 -1  20  525\n",
              "Linha 4  4  0  35   35"
            ]
          },
          "execution_count": 19,
          "metadata": {},
          "output_type": "execute_result"
        }
      ],
      "source": [
        "DataFrame_01"
      ]
    },
    {
      "cell_type": "code",
      "execution_count": 20,
      "metadata": {
        "id": "16FYy2TzhZ5a"
      },
      "outputs": [],
      "source": [
        "# Criando varios dicionarios\n",
        "Dicionario_01 = {'A' : [1, 2, 3], \n",
        "                 'B' : [-32, -21, -15], \n",
        "                 'C' : [60, 10, 20],\n",
        "                 'Chave' : ['AA', 'BB', 'CC'] }\n",
        "\n",
        "Dicionario_02 = {'A' : [6, 7, 8], \n",
        "                 'B' : [-39, -28, -17], \n",
        "                 'C' : [1000, 10, 60],\n",
        "                 'Chave' : ['AA', 'BB', 'CC'] }\n",
        "\n",
        "Dicionario_03 = {'A' : [11, 12, 13], \n",
        "                 'B' : [-39, -22, -11], \n",
        "                 'C' : [30, 10, 20],\n",
        "                 'Chave' : ['AA', 'BB', 'CC'] }\n",
        "\n",
        "# Criando varias listas para serem os labels\n",
        "Label_01 = ['1º Linha', '2º Linha', '3º Linha']\n",
        "Label_02 = ['4º Linha', '5º Linha', '6º Linha']\n",
        "Label_03 = ['7º Linha', '8º Linha', '9º Linha']\n",
        "\n",
        "# Estruturando as bases de dados\n",
        "DataFrame_01 = pd.DataFrame( Dicionario_01, index=Label_01 )\n",
        "DataFrame_02 = pd.DataFrame( Dicionario_02, index=Label_02 )\n",
        "DataFrame_03 = pd.DataFrame( Dicionario_03, index=Label_03 )\n"
      ]
    },
    {
      "cell_type": "code",
      "execution_count": 21,
      "metadata": {},
      "outputs": [
        {
          "data": {
            "text/plain": [
              "(          A   B   C Chave\n",
              " 1º Linha  1 -32  60    AA\n",
              " 2º Linha  2 -21  10    BB\n",
              " 3º Linha  3 -15  20    CC,\n",
              "           A   B     C Chave\n",
              " 4º Linha  6 -39  1000    AA\n",
              " 5º Linha  7 -28    10    BB\n",
              " 6º Linha  8 -17    60    CC,\n",
              "            A   B   C Chave\n",
              " 7º Linha  11 -39  30    AA\n",
              " 8º Linha  12 -22  10    BB\n",
              " 9º Linha  13 -11  20    CC)"
            ]
          },
          "execution_count": 21,
          "metadata": {},
          "output_type": "execute_result"
        }
      ],
      "source": [
        "DataFrame_01, DataFrame_02, DataFrame_03"
      ]
    },
    {
      "cell_type": "code",
      "execution_count": 22,
      "metadata": {
        "colab": {
          "base_uri": "https://localhost:8080/",
          "height": 307
        },
        "id": "1ELP9CJ9lkd9",
        "outputId": "55789572-6f9b-4db6-feb7-305016ae15be"
      },
      "outputs": [
        {
          "data": {
            "text/html": [
              "<div>\n",
              "<style scoped>\n",
              "    .dataframe tbody tr th:only-of-type {\n",
              "        vertical-align: middle;\n",
              "    }\n",
              "\n",
              "    .dataframe tbody tr th {\n",
              "        vertical-align: top;\n",
              "    }\n",
              "\n",
              "    .dataframe thead th {\n",
              "        text-align: right;\n",
              "    }\n",
              "</style>\n",
              "<table border=\"1\" class=\"dataframe\">\n",
              "  <thead>\n",
              "    <tr style=\"text-align: right;\">\n",
              "      <th></th>\n",
              "      <th>A</th>\n",
              "      <th>B</th>\n",
              "      <th>C</th>\n",
              "      <th>Chave</th>\n",
              "    </tr>\n",
              "  </thead>\n",
              "  <tbody>\n",
              "    <tr>\n",
              "      <th>1º Linha</th>\n",
              "      <td>1</td>\n",
              "      <td>-32</td>\n",
              "      <td>60</td>\n",
              "      <td>AA</td>\n",
              "    </tr>\n",
              "    <tr>\n",
              "      <th>2º Linha</th>\n",
              "      <td>2</td>\n",
              "      <td>-21</td>\n",
              "      <td>10</td>\n",
              "      <td>BB</td>\n",
              "    </tr>\n",
              "    <tr>\n",
              "      <th>3º Linha</th>\n",
              "      <td>3</td>\n",
              "      <td>-15</td>\n",
              "      <td>20</td>\n",
              "      <td>CC</td>\n",
              "    </tr>\n",
              "    <tr>\n",
              "      <th>4º Linha</th>\n",
              "      <td>6</td>\n",
              "      <td>-39</td>\n",
              "      <td>1000</td>\n",
              "      <td>AA</td>\n",
              "    </tr>\n",
              "    <tr>\n",
              "      <th>5º Linha</th>\n",
              "      <td>7</td>\n",
              "      <td>-28</td>\n",
              "      <td>10</td>\n",
              "      <td>BB</td>\n",
              "    </tr>\n",
              "    <tr>\n",
              "      <th>6º Linha</th>\n",
              "      <td>8</td>\n",
              "      <td>-17</td>\n",
              "      <td>60</td>\n",
              "      <td>CC</td>\n",
              "    </tr>\n",
              "    <tr>\n",
              "      <th>7º Linha</th>\n",
              "      <td>11</td>\n",
              "      <td>-39</td>\n",
              "      <td>30</td>\n",
              "      <td>AA</td>\n",
              "    </tr>\n",
              "    <tr>\n",
              "      <th>8º Linha</th>\n",
              "      <td>12</td>\n",
              "      <td>-22</td>\n",
              "      <td>10</td>\n",
              "      <td>BB</td>\n",
              "    </tr>\n",
              "    <tr>\n",
              "      <th>9º Linha</th>\n",
              "      <td>13</td>\n",
              "      <td>-11</td>\n",
              "      <td>20</td>\n",
              "      <td>CC</td>\n",
              "    </tr>\n",
              "  </tbody>\n",
              "</table>\n",
              "</div>"
            ],
            "text/plain": [
              "           A   B     C Chave\n",
              "1º Linha   1 -32    60    AA\n",
              "2º Linha   2 -21    10    BB\n",
              "3º Linha   3 -15    20    CC\n",
              "4º Linha   6 -39  1000    AA\n",
              "5º Linha   7 -28    10    BB\n",
              "6º Linha   8 -17    60    CC\n",
              "7º Linha  11 -39    30    AA\n",
              "8º Linha  12 -22    10    BB\n",
              "9º Linha  13 -11    20    CC"
            ]
          },
          "execution_count": 22,
          "metadata": {},
          "output_type": "execute_result"
        }
      ],
      "source": [
        "pd.concat(\n",
        "  [ DataFrame_01, DataFrame_02, DataFrame_03 ]\n",
        ")"
      ]
    },
    {
      "cell_type": "code",
      "execution_count": 23,
      "metadata": {
        "colab": {
          "base_uri": "https://localhost:8080/",
          "height": 133
        },
        "id": "9PgtCgkGlkn8",
        "outputId": "c3e323ae-9b9c-4dbd-ec77-f294c29a7329"
      },
      "outputs": [
        {
          "data": {
            "text/html": [
              "<div>\n",
              "<style scoped>\n",
              "    .dataframe tbody tr th:only-of-type {\n",
              "        vertical-align: middle;\n",
              "    }\n",
              "\n",
              "    .dataframe tbody tr th {\n",
              "        vertical-align: top;\n",
              "    }\n",
              "\n",
              "    .dataframe thead th {\n",
              "        text-align: right;\n",
              "    }\n",
              "</style>\n",
              "<table border=\"1\" class=\"dataframe\">\n",
              "  <thead>\n",
              "    <tr style=\"text-align: right;\">\n",
              "      <th></th>\n",
              "      <th>A_x</th>\n",
              "      <th>B_x</th>\n",
              "      <th>C_x</th>\n",
              "      <th>Chave</th>\n",
              "      <th>A_y</th>\n",
              "      <th>B_y</th>\n",
              "      <th>C_y</th>\n",
              "    </tr>\n",
              "  </thead>\n",
              "  <tbody>\n",
              "    <tr>\n",
              "      <th>0</th>\n",
              "      <td>1</td>\n",
              "      <td>-32</td>\n",
              "      <td>60</td>\n",
              "      <td>AA</td>\n",
              "      <td>6</td>\n",
              "      <td>-39</td>\n",
              "      <td>1000</td>\n",
              "    </tr>\n",
              "    <tr>\n",
              "      <th>1</th>\n",
              "      <td>2</td>\n",
              "      <td>-21</td>\n",
              "      <td>10</td>\n",
              "      <td>BB</td>\n",
              "      <td>7</td>\n",
              "      <td>-28</td>\n",
              "      <td>10</td>\n",
              "    </tr>\n",
              "    <tr>\n",
              "      <th>2</th>\n",
              "      <td>3</td>\n",
              "      <td>-15</td>\n",
              "      <td>20</td>\n",
              "      <td>CC</td>\n",
              "      <td>8</td>\n",
              "      <td>-17</td>\n",
              "      <td>60</td>\n",
              "    </tr>\n",
              "  </tbody>\n",
              "</table>\n",
              "</div>"
            ],
            "text/plain": [
              "   A_x  B_x  C_x Chave  A_y  B_y   C_y\n",
              "0    1  -32   60    AA    6  -39  1000\n",
              "1    2  -21   10    BB    7  -28    10\n",
              "2    3  -15   20    CC    8  -17    60"
            ]
          },
          "execution_count": 23,
          "metadata": {},
          "output_type": "execute_result"
        }
      ],
      "source": [
        "pd.merge(\n",
        "  DataFrame_01, DataFrame_02, how='inner', on='Chave'\n",
        ")"
      ]
    },
    {
      "cell_type": "code",
      "execution_count": 24,
      "metadata": {
        "colab": {
          "base_uri": "https://localhost:8080/",
          "height": 133
        },
        "id": "sdUW97gOrNaY",
        "outputId": "87fd3fb8-6d1e-4a57-a19d-4159d5fce3cb"
      },
      "outputs": [
        {
          "data": {
            "text/html": [
              "<div>\n",
              "<style scoped>\n",
              "    .dataframe tbody tr th:only-of-type {\n",
              "        vertical-align: middle;\n",
              "    }\n",
              "\n",
              "    .dataframe tbody tr th {\n",
              "        vertical-align: top;\n",
              "    }\n",
              "\n",
              "    .dataframe thead th {\n",
              "        text-align: right;\n",
              "    }\n",
              "</style>\n",
              "<table border=\"1\" class=\"dataframe\">\n",
              "  <thead>\n",
              "    <tr style=\"text-align: right;\">\n",
              "      <th></th>\n",
              "      <th>A</th>\n",
              "      <th>B</th>\n",
              "      <th>C</th>\n",
              "      <th>D</th>\n",
              "      <th>E</th>\n",
              "      <th>F</th>\n",
              "    </tr>\n",
              "  </thead>\n",
              "  <tbody>\n",
              "    <tr>\n",
              "      <th>1º Linha</th>\n",
              "      <td>1</td>\n",
              "      <td>-32</td>\n",
              "      <td>60</td>\n",
              "      <td>6</td>\n",
              "      <td>-39</td>\n",
              "      <td>1000</td>\n",
              "    </tr>\n",
              "    <tr>\n",
              "      <th>2º Linha</th>\n",
              "      <td>2</td>\n",
              "      <td>-21</td>\n",
              "      <td>10</td>\n",
              "      <td>7</td>\n",
              "      <td>-28</td>\n",
              "      <td>10</td>\n",
              "    </tr>\n",
              "    <tr>\n",
              "      <th>3º Linha</th>\n",
              "      <td>3</td>\n",
              "      <td>-15</td>\n",
              "      <td>20</td>\n",
              "      <td>8</td>\n",
              "      <td>-17</td>\n",
              "      <td>60</td>\n",
              "    </tr>\n",
              "  </tbody>\n",
              "</table>\n",
              "</div>"
            ],
            "text/plain": [
              "          A   B   C  D   E     F\n",
              "1º Linha  1 -32  60  6 -39  1000\n",
              "2º Linha  2 -21  10  7 -28    10\n",
              "3º Linha  3 -15  20  8 -17    60"
            ]
          },
          "execution_count": 24,
          "metadata": {},
          "output_type": "execute_result"
        }
      ],
      "source": [
        "# Criando varios dicionarios\n",
        "Dicionario_01 = {'A' : [1, 2, 3], \n",
        "                 'B' : [-32, -21, -15], \n",
        "                 'C' : [60, 10, 20] }\n",
        "\n",
        "Dicionario_02 = {'D' : [6, 7, 8], \n",
        "                 'E' : [-39, -28, -17], \n",
        "                 'F' : [1000, 10, 60] }\n",
        "\n",
        "# Criando varias listas para serem os labels\n",
        "Label_01 = ['1º Linha', '2º Linha', '3º Linha']\n",
        "\n",
        "\n",
        "# Estruturando as bases de dados\n",
        "DataFrame_01 = pd.DataFrame( Dicionario_01, index=Label_01 )\n",
        "DataFrame_02 = pd.DataFrame( Dicionario_02, index=Label_01 )\n",
        "\n",
        "# Aplicando a função join\n",
        "DataFrame_01.join(DataFrame_02)"
      ]
    },
    {
      "cell_type": "code",
      "execution_count": 25,
      "metadata": {
        "colab": {
          "base_uri": "https://localhost:8080/"
        },
        "id": "qAPH5nmVKdjt",
        "outputId": "286a9da2-a951-4c00-d8a0-460b13751703"
      },
      "outputs": [
        {
          "data": {
            "text/plain": [
              "0    1.0\n",
              "1    3.0\n",
              "2    5.0\n",
              "3    NaN\n",
              "4    6.0\n",
              "5    8.0\n",
              "dtype: float64"
            ]
          },
          "execution_count": 25,
          "metadata": {},
          "output_type": "execute_result"
        }
      ],
      "source": [
        "Dados = pd.Series( [1,3,5,np.nan,6,8] )\n",
        "Dados"
      ]
    },
    {
      "cell_type": "code",
      "execution_count": 26,
      "metadata": {
        "colab": {
          "base_uri": "https://localhost:8080/"
        },
        "id": "Q9digJPVKy1R",
        "outputId": "000e812b-e5b4-43e8-cef0-ede82575ff27"
      },
      "outputs": [
        {
          "data": {
            "text/plain": [
              "DatetimeIndex(['2021-01-01', '2021-01-02', '2021-01-03', '2021-01-04',\n",
              "               '2021-01-05'],\n",
              "              dtype='datetime64[ns]', freq='D')"
            ]
          },
          "execution_count": 26,
          "metadata": {},
          "output_type": "execute_result"
        }
      ],
      "source": [
        "Lista_Datas = pd.date_range('20210101', periods=5)\n",
        "Lista_Datas"
      ]
    },
    {
      "cell_type": "code",
      "execution_count": 27,
      "metadata": {
        "colab": {
          "base_uri": "https://localhost:8080/",
          "height": 191
        },
        "id": "yc1T6kIEK5Q3",
        "outputId": "0064a294-c72d-4869-bcfc-374a8952be73"
      },
      "outputs": [
        {
          "data": {
            "text/html": [
              "<div>\n",
              "<style scoped>\n",
              "    .dataframe tbody tr th:only-of-type {\n",
              "        vertical-align: middle;\n",
              "    }\n",
              "\n",
              "    .dataframe tbody tr th {\n",
              "        vertical-align: top;\n",
              "    }\n",
              "\n",
              "    .dataframe thead th {\n",
              "        text-align: right;\n",
              "    }\n",
              "</style>\n",
              "<table border=\"1\" class=\"dataframe\">\n",
              "  <thead>\n",
              "    <tr style=\"text-align: right;\">\n",
              "      <th></th>\n",
              "      <th>A</th>\n",
              "      <th>B</th>\n",
              "      <th>C</th>\n",
              "      <th>D</th>\n",
              "    </tr>\n",
              "  </thead>\n",
              "  <tbody>\n",
              "    <tr>\n",
              "      <th>2021-01-01</th>\n",
              "      <td>0.276618</td>\n",
              "      <td>0.091495</td>\n",
              "      <td>-1.155843</td>\n",
              "      <td>-0.636452</td>\n",
              "    </tr>\n",
              "    <tr>\n",
              "      <th>2021-01-02</th>\n",
              "      <td>0.811114</td>\n",
              "      <td>0.088884</td>\n",
              "      <td>-0.358460</td>\n",
              "      <td>-0.341048</td>\n",
              "    </tr>\n",
              "    <tr>\n",
              "      <th>2021-01-03</th>\n",
              "      <td>0.755415</td>\n",
              "      <td>0.797776</td>\n",
              "      <td>-0.440897</td>\n",
              "      <td>0.670351</td>\n",
              "    </tr>\n",
              "    <tr>\n",
              "      <th>2021-01-04</th>\n",
              "      <td>1.752075</td>\n",
              "      <td>0.647695</td>\n",
              "      <td>0.479490</td>\n",
              "      <td>0.175780</td>\n",
              "    </tr>\n",
              "    <tr>\n",
              "      <th>2021-01-05</th>\n",
              "      <td>1.322530</td>\n",
              "      <td>0.382532</td>\n",
              "      <td>1.591827</td>\n",
              "      <td>-0.016956</td>\n",
              "    </tr>\n",
              "  </tbody>\n",
              "</table>\n",
              "</div>"
            ],
            "text/plain": [
              "                   A         B         C         D\n",
              "2021-01-01  0.276618  0.091495 -1.155843 -0.636452\n",
              "2021-01-02  0.811114  0.088884 -0.358460 -0.341048\n",
              "2021-01-03  0.755415  0.797776 -0.440897  0.670351\n",
              "2021-01-04  1.752075  0.647695  0.479490  0.175780\n",
              "2021-01-05  1.322530  0.382532  1.591827 -0.016956"
            ]
          },
          "execution_count": 27,
          "metadata": {},
          "output_type": "execute_result"
        }
      ],
      "source": [
        "DataFrame_01 = pd.DataFrame( np.random.randn(5,4), \n",
        "                  index=Lista_Datas, \n",
        "                  columns=list( ['A','B','C','D']) )\n",
        "DataFrame_01"
      ]
    },
    {
      "cell_type": "code",
      "execution_count": 28,
      "metadata": {
        "colab": {
          "base_uri": "https://localhost:8080/",
          "height": 162
        },
        "id": "KzrgIgahMV9I",
        "outputId": "0585db5a-5cce-4fdc-bba8-b6408a072bbc"
      },
      "outputs": [
        {
          "data": {
            "text/html": [
              "<div>\n",
              "<style scoped>\n",
              "    .dataframe tbody tr th:only-of-type {\n",
              "        vertical-align: middle;\n",
              "    }\n",
              "\n",
              "    .dataframe tbody tr th {\n",
              "        vertical-align: top;\n",
              "    }\n",
              "\n",
              "    .dataframe thead th {\n",
              "        text-align: right;\n",
              "    }\n",
              "</style>\n",
              "<table border=\"1\" class=\"dataframe\">\n",
              "  <thead>\n",
              "    <tr style=\"text-align: right;\">\n",
              "      <th></th>\n",
              "      <th>A</th>\n",
              "      <th>B</th>\n",
              "      <th>C</th>\n",
              "      <th>D</th>\n",
              "      <th>E</th>\n",
              "      <th>F</th>\n",
              "    </tr>\n",
              "  </thead>\n",
              "  <tbody>\n",
              "    <tr>\n",
              "      <th>0</th>\n",
              "      <td>1</td>\n",
              "      <td>2021-01-02</td>\n",
              "      <td>1.0</td>\n",
              "      <td>3</td>\n",
              "      <td>Email</td>\n",
              "      <td>email@.email.com</td>\n",
              "    </tr>\n",
              "    <tr>\n",
              "      <th>1</th>\n",
              "      <td>1</td>\n",
              "      <td>2021-01-02</td>\n",
              "      <td>1.0</td>\n",
              "      <td>3</td>\n",
              "      <td>Telefone</td>\n",
              "      <td>(11)4455-4455</td>\n",
              "    </tr>\n",
              "    <tr>\n",
              "      <th>2</th>\n",
              "      <td>1</td>\n",
              "      <td>2021-01-02</td>\n",
              "      <td>1.0</td>\n",
              "      <td>3</td>\n",
              "      <td>Celular</td>\n",
              "      <td>(11)922332233</td>\n",
              "    </tr>\n",
              "    <tr>\n",
              "      <th>3</th>\n",
              "      <td>1</td>\n",
              "      <td>2021-01-02</td>\n",
              "      <td>1.0</td>\n",
              "      <td>3</td>\n",
              "      <td>País</td>\n",
              "      <td>Brasil</td>\n",
              "    </tr>\n",
              "  </tbody>\n",
              "</table>\n",
              "</div>"
            ],
            "text/plain": [
              "   A          B    C  D         E                 F\n",
              "0  1 2021-01-02  1.0  3     Email  email@.email.com\n",
              "1  1 2021-01-02  1.0  3  Telefone     (11)4455-4455\n",
              "2  1 2021-01-02  1.0  3   Celular     (11)922332233\n",
              "3  1 2021-01-02  1.0  3      País            Brasil"
            ]
          },
          "execution_count": 28,
          "metadata": {},
          "output_type": "execute_result"
        }
      ],
      "source": [
        "Dicionario = {\n",
        "    'A' : 1,\n",
        "    'B' : pd.Timestamp('20210102'),\n",
        "    'C' : pd.Series(1, index=list(range(4)), dtype='float32'),\n",
        "    'D' : np.array([3] * 4, dtype='int32'),\n",
        "    'E' : pd.Categorical( [\"Email\", \"Telefone\", \"Celular\", \"País\"] ),\n",
        "    'F' : pd.Categorical( [\"email@.email.com\", \"(11)4455-4455\", \"(11)922332233\", \"Brasil\"] ),\n",
        "}\n",
        "\n",
        "DataFrame_02 = pd.DataFrame( Dicionario )\n",
        "DataFrame_02"
      ]
    },
    {
      "cell_type": "code",
      "execution_count": 29,
      "metadata": {
        "colab": {
          "base_uri": "https://localhost:8080/"
        },
        "id": "YbdLjHNbNDbI",
        "outputId": "64bb4099-c6fd-4185-8d28-eec806d914ff"
      },
      "outputs": [
        {
          "data": {
            "text/plain": [
              "A             int64\n",
              "B    datetime64[ns]\n",
              "C           float32\n",
              "D             int32\n",
              "E          category\n",
              "F          category\n",
              "dtype: object"
            ]
          },
          "execution_count": 29,
          "metadata": {},
          "output_type": "execute_result"
        }
      ],
      "source": [
        "#Verificar o tipo de dados das colunas\n",
        "DataFrame_02.dtypes"
      ]
    },
    {
      "cell_type": "code",
      "execution_count": 30,
      "metadata": {
        "colab": {
          "base_uri": "https://localhost:8080/",
          "height": 162
        },
        "id": "_UaMSZNnOhti",
        "outputId": "893029fc-0767-4fc5-83d3-06ab8b793727"
      },
      "outputs": [
        {
          "data": {
            "text/html": [
              "<div>\n",
              "<style scoped>\n",
              "    .dataframe tbody tr th:only-of-type {\n",
              "        vertical-align: middle;\n",
              "    }\n",
              "\n",
              "    .dataframe tbody tr th {\n",
              "        vertical-align: top;\n",
              "    }\n",
              "\n",
              "    .dataframe thead th {\n",
              "        text-align: right;\n",
              "    }\n",
              "</style>\n",
              "<table border=\"1\" class=\"dataframe\">\n",
              "  <thead>\n",
              "    <tr style=\"text-align: right;\">\n",
              "      <th></th>\n",
              "      <th>A</th>\n",
              "      <th>B</th>\n",
              "      <th>C</th>\n",
              "      <th>D</th>\n",
              "      <th>E</th>\n",
              "      <th>F</th>\n",
              "    </tr>\n",
              "  </thead>\n",
              "  <tbody>\n",
              "    <tr>\n",
              "      <th>0</th>\n",
              "      <td>1</td>\n",
              "      <td>2021-01-02</td>\n",
              "      <td>1.0</td>\n",
              "      <td>3</td>\n",
              "      <td>Email</td>\n",
              "      <td>email@.email.com</td>\n",
              "    </tr>\n",
              "    <tr>\n",
              "      <th>1</th>\n",
              "      <td>1</td>\n",
              "      <td>2021-01-02</td>\n",
              "      <td>1.0</td>\n",
              "      <td>3</td>\n",
              "      <td>Telefone</td>\n",
              "      <td>(11)4455-4455</td>\n",
              "    </tr>\n",
              "    <tr>\n",
              "      <th>2</th>\n",
              "      <td>1</td>\n",
              "      <td>2021-01-02</td>\n",
              "      <td>1.0</td>\n",
              "      <td>3</td>\n",
              "      <td>Celular</td>\n",
              "      <td>(11)922332233</td>\n",
              "    </tr>\n",
              "    <tr>\n",
              "      <th>3</th>\n",
              "      <td>1</td>\n",
              "      <td>2021-01-02</td>\n",
              "      <td>1.0</td>\n",
              "      <td>3</td>\n",
              "      <td>País</td>\n",
              "      <td>Brasil</td>\n",
              "    </tr>\n",
              "  </tbody>\n",
              "</table>\n",
              "</div>"
            ],
            "text/plain": [
              "   A          B    C  D         E                 F\n",
              "0  1 2021-01-02  1.0  3     Email  email@.email.com\n",
              "1  1 2021-01-02  1.0  3  Telefone     (11)4455-4455\n",
              "2  1 2021-01-02  1.0  3   Celular     (11)922332233\n",
              "3  1 2021-01-02  1.0  3      País            Brasil"
            ]
          },
          "execution_count": 30,
          "metadata": {},
          "output_type": "execute_result"
        }
      ],
      "source": [
        "#Ver as primeiras colunas do dataframe usando o head()\n",
        "DataFrame_02.head()"
      ]
    },
    {
      "cell_type": "code",
      "execution_count": 31,
      "metadata": {
        "colab": {
          "base_uri": "https://localhost:8080/",
          "height": 104
        },
        "id": "OwPI1YiqOykT",
        "outputId": "123736dc-b74e-44ca-ae0c-42e547f04910"
      },
      "outputs": [
        {
          "data": {
            "text/html": [
              "<div>\n",
              "<style scoped>\n",
              "    .dataframe tbody tr th:only-of-type {\n",
              "        vertical-align: middle;\n",
              "    }\n",
              "\n",
              "    .dataframe tbody tr th {\n",
              "        vertical-align: top;\n",
              "    }\n",
              "\n",
              "    .dataframe thead th {\n",
              "        text-align: right;\n",
              "    }\n",
              "</style>\n",
              "<table border=\"1\" class=\"dataframe\">\n",
              "  <thead>\n",
              "    <tr style=\"text-align: right;\">\n",
              "      <th></th>\n",
              "      <th>A</th>\n",
              "      <th>B</th>\n",
              "      <th>C</th>\n",
              "      <th>D</th>\n",
              "      <th>E</th>\n",
              "      <th>F</th>\n",
              "    </tr>\n",
              "  </thead>\n",
              "  <tbody>\n",
              "    <tr>\n",
              "      <th>2</th>\n",
              "      <td>1</td>\n",
              "      <td>2021-01-02</td>\n",
              "      <td>1.0</td>\n",
              "      <td>3</td>\n",
              "      <td>Celular</td>\n",
              "      <td>(11)922332233</td>\n",
              "    </tr>\n",
              "    <tr>\n",
              "      <th>3</th>\n",
              "      <td>1</td>\n",
              "      <td>2021-01-02</td>\n",
              "      <td>1.0</td>\n",
              "      <td>3</td>\n",
              "      <td>País</td>\n",
              "      <td>Brasil</td>\n",
              "    </tr>\n",
              "  </tbody>\n",
              "</table>\n",
              "</div>"
            ],
            "text/plain": [
              "   A          B    C  D        E              F\n",
              "2  1 2021-01-02  1.0  3  Celular  (11)922332233\n",
              "3  1 2021-01-02  1.0  3     País         Brasil"
            ]
          },
          "execution_count": 31,
          "metadata": {},
          "output_type": "execute_result"
        }
      ],
      "source": [
        "#Ver as ultimas colunas do dataframe usando o tail()\n",
        "DataFrame_02.tail(2)"
      ]
    },
    {
      "cell_type": "code",
      "execution_count": 32,
      "metadata": {
        "colab": {
          "base_uri": "https://localhost:8080/"
        },
        "id": "vwcMG_elO0VQ",
        "outputId": "7cfc1175-2683-4919-ee11-3e8bd995de75"
      },
      "outputs": [
        {
          "data": {
            "text/plain": [
              "Int64Index([0, 1, 2, 3], dtype='int64')"
            ]
          },
          "execution_count": 32,
          "metadata": {},
          "output_type": "execute_result"
        }
      ],
      "source": [
        "DataFrame_02.index"
      ]
    },
    {
      "cell_type": "code",
      "execution_count": 33,
      "metadata": {
        "colab": {
          "base_uri": "https://localhost:8080/"
        },
        "id": "tcvyT-VSO4OP",
        "outputId": "6f715d64-809a-4f2b-f1a2-fd2e4db1df2b"
      },
      "outputs": [
        {
          "data": {
            "text/plain": [
              "Index(['A', 'B', 'C', 'D', 'E', 'F'], dtype='object')"
            ]
          },
          "execution_count": 33,
          "metadata": {},
          "output_type": "execute_result"
        }
      ],
      "source": [
        "DataFrame_02.columns"
      ]
    },
    {
      "cell_type": "code",
      "execution_count": 34,
      "metadata": {
        "colab": {
          "base_uri": "https://localhost:8080/"
        },
        "id": "AhVgKPyFO6L6",
        "outputId": "7cacbc5a-600e-42af-84d7-9d4461098190"
      },
      "outputs": [
        {
          "data": {
            "text/plain": [
              "array([[1, Timestamp('2021-01-02 00:00:00'), 1.0, 3, 'Email',\n",
              "        'email@.email.com'],\n",
              "       [1, Timestamp('2021-01-02 00:00:00'), 1.0, 3, 'Telefone',\n",
              "        '(11)4455-4455'],\n",
              "       [1, Timestamp('2021-01-02 00:00:00'), 1.0, 3, 'Celular',\n",
              "        '(11)922332233'],\n",
              "       [1, Timestamp('2021-01-02 00:00:00'), 1.0, 3, 'País', 'Brasil']],\n",
              "      dtype=object)"
            ]
          },
          "execution_count": 34,
          "metadata": {},
          "output_type": "execute_result"
        }
      ],
      "source": [
        "DataFrame_02.values"
      ]
    },
    {
      "cell_type": "code",
      "execution_count": 35,
      "metadata": {
        "colab": {
          "base_uri": "https://localhost:8080/",
          "height": 278
        },
        "id": "BumOTyC0O8J0",
        "outputId": "cb728ca2-7d2f-43a2-846b-3e646b0f1360"
      },
      "outputs": [
        {
          "data": {
            "text/html": [
              "<div>\n",
              "<style scoped>\n",
              "    .dataframe tbody tr th:only-of-type {\n",
              "        vertical-align: middle;\n",
              "    }\n",
              "\n",
              "    .dataframe tbody tr th {\n",
              "        vertical-align: top;\n",
              "    }\n",
              "\n",
              "    .dataframe thead th {\n",
              "        text-align: right;\n",
              "    }\n",
              "</style>\n",
              "<table border=\"1\" class=\"dataframe\">\n",
              "  <thead>\n",
              "    <tr style=\"text-align: right;\">\n",
              "      <th></th>\n",
              "      <th>A</th>\n",
              "      <th>C</th>\n",
              "      <th>D</th>\n",
              "    </tr>\n",
              "  </thead>\n",
              "  <tbody>\n",
              "    <tr>\n",
              "      <th>count</th>\n",
              "      <td>4.0</td>\n",
              "      <td>4.0</td>\n",
              "      <td>4.0</td>\n",
              "    </tr>\n",
              "    <tr>\n",
              "      <th>mean</th>\n",
              "      <td>1.0</td>\n",
              "      <td>1.0</td>\n",
              "      <td>3.0</td>\n",
              "    </tr>\n",
              "    <tr>\n",
              "      <th>std</th>\n",
              "      <td>0.0</td>\n",
              "      <td>0.0</td>\n",
              "      <td>0.0</td>\n",
              "    </tr>\n",
              "    <tr>\n",
              "      <th>min</th>\n",
              "      <td>1.0</td>\n",
              "      <td>1.0</td>\n",
              "      <td>3.0</td>\n",
              "    </tr>\n",
              "    <tr>\n",
              "      <th>25%</th>\n",
              "      <td>1.0</td>\n",
              "      <td>1.0</td>\n",
              "      <td>3.0</td>\n",
              "    </tr>\n",
              "    <tr>\n",
              "      <th>50%</th>\n",
              "      <td>1.0</td>\n",
              "      <td>1.0</td>\n",
              "      <td>3.0</td>\n",
              "    </tr>\n",
              "    <tr>\n",
              "      <th>75%</th>\n",
              "      <td>1.0</td>\n",
              "      <td>1.0</td>\n",
              "      <td>3.0</td>\n",
              "    </tr>\n",
              "    <tr>\n",
              "      <th>max</th>\n",
              "      <td>1.0</td>\n",
              "      <td>1.0</td>\n",
              "      <td>3.0</td>\n",
              "    </tr>\n",
              "  </tbody>\n",
              "</table>\n",
              "</div>"
            ],
            "text/plain": [
              "         A    C    D\n",
              "count  4.0  4.0  4.0\n",
              "mean   1.0  1.0  3.0\n",
              "std    0.0  0.0  0.0\n",
              "min    1.0  1.0  3.0\n",
              "25%    1.0  1.0  3.0\n",
              "50%    1.0  1.0  3.0\n",
              "75%    1.0  1.0  3.0\n",
              "max    1.0  1.0  3.0"
            ]
          },
          "execution_count": 35,
          "metadata": {},
          "output_type": "execute_result"
        }
      ],
      "source": [
        "DataFrame_02.describe()"
      ]
    },
    {
      "cell_type": "code",
      "execution_count": 36,
      "metadata": {
        "colab": {
          "base_uri": "https://localhost:8080/",
          "height": 191
        },
        "id": "O1lycNTgO-tM",
        "outputId": "1273687c-6da9-4a28-df5b-cf603947db79"
      },
      "outputs": [
        {
          "data": {
            "text/html": [
              "<div>\n",
              "<style scoped>\n",
              "    .dataframe tbody tr th:only-of-type {\n",
              "        vertical-align: middle;\n",
              "    }\n",
              "\n",
              "    .dataframe tbody tr th {\n",
              "        vertical-align: top;\n",
              "    }\n",
              "\n",
              "    .dataframe thead th {\n",
              "        text-align: right;\n",
              "    }\n",
              "</style>\n",
              "<table border=\"1\" class=\"dataframe\">\n",
              "  <thead>\n",
              "    <tr style=\"text-align: right;\">\n",
              "      <th></th>\n",
              "      <th>D</th>\n",
              "      <th>C</th>\n",
              "      <th>B</th>\n",
              "      <th>A</th>\n",
              "    </tr>\n",
              "  </thead>\n",
              "  <tbody>\n",
              "    <tr>\n",
              "      <th>2021-01-01</th>\n",
              "      <td>-0.636452</td>\n",
              "      <td>-1.155843</td>\n",
              "      <td>0.091495</td>\n",
              "      <td>0.276618</td>\n",
              "    </tr>\n",
              "    <tr>\n",
              "      <th>2021-01-02</th>\n",
              "      <td>-0.341048</td>\n",
              "      <td>-0.358460</td>\n",
              "      <td>0.088884</td>\n",
              "      <td>0.811114</td>\n",
              "    </tr>\n",
              "    <tr>\n",
              "      <th>2021-01-03</th>\n",
              "      <td>0.670351</td>\n",
              "      <td>-0.440897</td>\n",
              "      <td>0.797776</td>\n",
              "      <td>0.755415</td>\n",
              "    </tr>\n",
              "    <tr>\n",
              "      <th>2021-01-04</th>\n",
              "      <td>0.175780</td>\n",
              "      <td>0.479490</td>\n",
              "      <td>0.647695</td>\n",
              "      <td>1.752075</td>\n",
              "    </tr>\n",
              "    <tr>\n",
              "      <th>2021-01-05</th>\n",
              "      <td>-0.016956</td>\n",
              "      <td>1.591827</td>\n",
              "      <td>0.382532</td>\n",
              "      <td>1.322530</td>\n",
              "    </tr>\n",
              "  </tbody>\n",
              "</table>\n",
              "</div>"
            ],
            "text/plain": [
              "                   D         C         B         A\n",
              "2021-01-01 -0.636452 -1.155843  0.091495  0.276618\n",
              "2021-01-02 -0.341048 -0.358460  0.088884  0.811114\n",
              "2021-01-03  0.670351 -0.440897  0.797776  0.755415\n",
              "2021-01-04  0.175780  0.479490  0.647695  1.752075\n",
              "2021-01-05 -0.016956  1.591827  0.382532  1.322530"
            ]
          },
          "execution_count": 36,
          "metadata": {},
          "output_type": "execute_result"
        }
      ],
      "source": [
        "DataFrame_01.sort_index(axis=1, ascending=False)"
      ]
    },
    {
      "cell_type": "code",
      "execution_count": 37,
      "metadata": {
        "colab": {
          "base_uri": "https://localhost:8080/",
          "height": 162
        },
        "id": "lGEcRYIO8F_z",
        "outputId": "c866ce8d-2d7e-470f-eaca-6c5bf5d7ab2b"
      },
      "outputs": [
        {
          "data": {
            "text/html": [
              "<div>\n",
              "<style scoped>\n",
              "    .dataframe tbody tr th:only-of-type {\n",
              "        vertical-align: middle;\n",
              "    }\n",
              "\n",
              "    .dataframe tbody tr th {\n",
              "        vertical-align: top;\n",
              "    }\n",
              "\n",
              "    .dataframe thead th {\n",
              "        text-align: right;\n",
              "    }\n",
              "</style>\n",
              "<table border=\"1\" class=\"dataframe\">\n",
              "  <thead>\n",
              "    <tr style=\"text-align: right;\">\n",
              "      <th></th>\n",
              "      <th>A</th>\n",
              "      <th>B</th>\n",
              "      <th>C</th>\n",
              "      <th>D</th>\n",
              "      <th>E</th>\n",
              "      <th>F</th>\n",
              "    </tr>\n",
              "  </thead>\n",
              "  <tbody>\n",
              "    <tr>\n",
              "      <th>2</th>\n",
              "      <td>1</td>\n",
              "      <td>2021-01-02</td>\n",
              "      <td>1.0</td>\n",
              "      <td>3</td>\n",
              "      <td>Celular</td>\n",
              "      <td>(11)922332233</td>\n",
              "    </tr>\n",
              "    <tr>\n",
              "      <th>0</th>\n",
              "      <td>1</td>\n",
              "      <td>2021-01-02</td>\n",
              "      <td>1.0</td>\n",
              "      <td>3</td>\n",
              "      <td>Email</td>\n",
              "      <td>email@.email.com</td>\n",
              "    </tr>\n",
              "    <tr>\n",
              "      <th>3</th>\n",
              "      <td>1</td>\n",
              "      <td>2021-01-02</td>\n",
              "      <td>1.0</td>\n",
              "      <td>3</td>\n",
              "      <td>País</td>\n",
              "      <td>Brasil</td>\n",
              "    </tr>\n",
              "    <tr>\n",
              "      <th>1</th>\n",
              "      <td>1</td>\n",
              "      <td>2021-01-02</td>\n",
              "      <td>1.0</td>\n",
              "      <td>3</td>\n",
              "      <td>Telefone</td>\n",
              "      <td>(11)4455-4455</td>\n",
              "    </tr>\n",
              "  </tbody>\n",
              "</table>\n",
              "</div>"
            ],
            "text/plain": [
              "   A          B    C  D         E                 F\n",
              "2  1 2021-01-02  1.0  3   Celular     (11)922332233\n",
              "0  1 2021-01-02  1.0  3     Email  email@.email.com\n",
              "3  1 2021-01-02  1.0  3      País            Brasil\n",
              "1  1 2021-01-02  1.0  3  Telefone     (11)4455-4455"
            ]
          },
          "execution_count": 37,
          "metadata": {},
          "output_type": "execute_result"
        }
      ],
      "source": [
        "DataFrame_02.sort_values(by='E')"
      ]
    },
    {
      "cell_type": "code",
      "execution_count": 38,
      "metadata": {
        "colab": {
          "base_uri": "https://localhost:8080/"
        },
        "id": "vDtGV_dm8Jat",
        "outputId": "9a576f8b-f6dc-4fb9-bc70-c155354e2cb4"
      },
      "outputs": [
        {
          "data": {
            "text/plain": [
              "2021-01-01    0.276618\n",
              "2021-01-02    0.811114\n",
              "2021-01-03    0.755415\n",
              "2021-01-04    1.752075\n",
              "2021-01-05    1.322530\n",
              "Freq: D, Name: A, dtype: float64"
            ]
          },
          "execution_count": 38,
          "metadata": {},
          "output_type": "execute_result"
        }
      ],
      "source": [
        "DataFrame_01['A']"
      ]
    },
    {
      "cell_type": "code",
      "execution_count": 39,
      "metadata": {
        "colab": {
          "base_uri": "https://localhost:8080/",
          "height": 133
        },
        "id": "TfFb2ChK8QZv",
        "outputId": "bc5d05c2-df49-4ff1-9737-5b11acab5a19"
      },
      "outputs": [
        {
          "data": {
            "text/html": [
              "<div>\n",
              "<style scoped>\n",
              "    .dataframe tbody tr th:only-of-type {\n",
              "        vertical-align: middle;\n",
              "    }\n",
              "\n",
              "    .dataframe tbody tr th {\n",
              "        vertical-align: top;\n",
              "    }\n",
              "\n",
              "    .dataframe thead th {\n",
              "        text-align: right;\n",
              "    }\n",
              "</style>\n",
              "<table border=\"1\" class=\"dataframe\">\n",
              "  <thead>\n",
              "    <tr style=\"text-align: right;\">\n",
              "      <th></th>\n",
              "      <th>A</th>\n",
              "      <th>B</th>\n",
              "      <th>C</th>\n",
              "      <th>D</th>\n",
              "    </tr>\n",
              "  </thead>\n",
              "  <tbody>\n",
              "    <tr>\n",
              "      <th>2021-01-01</th>\n",
              "      <td>0.276618</td>\n",
              "      <td>0.091495</td>\n",
              "      <td>-1.155843</td>\n",
              "      <td>-0.636452</td>\n",
              "    </tr>\n",
              "    <tr>\n",
              "      <th>2021-01-02</th>\n",
              "      <td>0.811114</td>\n",
              "      <td>0.088884</td>\n",
              "      <td>-0.358460</td>\n",
              "      <td>-0.341048</td>\n",
              "    </tr>\n",
              "    <tr>\n",
              "      <th>2021-01-03</th>\n",
              "      <td>0.755415</td>\n",
              "      <td>0.797776</td>\n",
              "      <td>-0.440897</td>\n",
              "      <td>0.670351</td>\n",
              "    </tr>\n",
              "  </tbody>\n",
              "</table>\n",
              "</div>"
            ],
            "text/plain": [
              "                   A         B         C         D\n",
              "2021-01-01  0.276618  0.091495 -1.155843 -0.636452\n",
              "2021-01-02  0.811114  0.088884 -0.358460 -0.341048\n",
              "2021-01-03  0.755415  0.797776 -0.440897  0.670351"
            ]
          },
          "execution_count": 39,
          "metadata": {},
          "output_type": "execute_result"
        }
      ],
      "source": [
        "DataFrame_01[0:3]"
      ]
    },
    {
      "cell_type": "code",
      "execution_count": 40,
      "metadata": {
        "colab": {
          "base_uri": "https://localhost:8080/",
          "height": 104
        },
        "id": "xE7CmXJ-8S_a",
        "outputId": "f5868cbe-ae29-4c4f-88ab-034884dfe06f"
      },
      "outputs": [
        {
          "data": {
            "text/html": [
              "<div>\n",
              "<style scoped>\n",
              "    .dataframe tbody tr th:only-of-type {\n",
              "        vertical-align: middle;\n",
              "    }\n",
              "\n",
              "    .dataframe tbody tr th {\n",
              "        vertical-align: top;\n",
              "    }\n",
              "\n",
              "    .dataframe thead th {\n",
              "        text-align: right;\n",
              "    }\n",
              "</style>\n",
              "<table border=\"1\" class=\"dataframe\">\n",
              "  <thead>\n",
              "    <tr style=\"text-align: right;\">\n",
              "      <th></th>\n",
              "      <th>A</th>\n",
              "      <th>B</th>\n",
              "      <th>C</th>\n",
              "      <th>D</th>\n",
              "    </tr>\n",
              "  </thead>\n",
              "  <tbody>\n",
              "    <tr>\n",
              "      <th>2021-01-01</th>\n",
              "      <td>0.276618</td>\n",
              "      <td>0.091495</td>\n",
              "      <td>-1.155843</td>\n",
              "      <td>-0.636452</td>\n",
              "    </tr>\n",
              "    <tr>\n",
              "      <th>2021-01-02</th>\n",
              "      <td>0.811114</td>\n",
              "      <td>0.088884</td>\n",
              "      <td>-0.358460</td>\n",
              "      <td>-0.341048</td>\n",
              "    </tr>\n",
              "  </tbody>\n",
              "</table>\n",
              "</div>"
            ],
            "text/plain": [
              "                   A         B         C         D\n",
              "2021-01-01  0.276618  0.091495 -1.155843 -0.636452\n",
              "2021-01-02  0.811114  0.088884 -0.358460 -0.341048"
            ]
          },
          "execution_count": 40,
          "metadata": {},
          "output_type": "execute_result"
        }
      ],
      "source": [
        "DataFrame_01['20210101':'20210102']"
      ]
    },
    {
      "cell_type": "code",
      "execution_count": 41,
      "metadata": {
        "colab": {
          "base_uri": "https://localhost:8080/"
        },
        "id": "VYSGg0vl8Z99",
        "outputId": "b3cee7d0-8823-4b5e-d0d4-90185c4a613a"
      },
      "outputs": [
        {
          "data": {
            "text/plain": [
              "A    0.276618\n",
              "B    0.091495\n",
              "C   -1.155843\n",
              "D   -0.636452\n",
              "Name: 2021-01-01 00:00:00, dtype: float64"
            ]
          },
          "execution_count": 41,
          "metadata": {},
          "output_type": "execute_result"
        }
      ],
      "source": [
        "DataFrame_01.loc['20210101']"
      ]
    },
    {
      "cell_type": "code",
      "execution_count": 42,
      "metadata": {
        "colab": {
          "base_uri": "https://localhost:8080/",
          "height": 191
        },
        "id": "Ao4y9eUq8e6U",
        "outputId": "85a8d172-34e2-4333-b055-7e01fa051214"
      },
      "outputs": [
        {
          "data": {
            "text/html": [
              "<div>\n",
              "<style scoped>\n",
              "    .dataframe tbody tr th:only-of-type {\n",
              "        vertical-align: middle;\n",
              "    }\n",
              "\n",
              "    .dataframe tbody tr th {\n",
              "        vertical-align: top;\n",
              "    }\n",
              "\n",
              "    .dataframe thead th {\n",
              "        text-align: right;\n",
              "    }\n",
              "</style>\n",
              "<table border=\"1\" class=\"dataframe\">\n",
              "  <thead>\n",
              "    <tr style=\"text-align: right;\">\n",
              "      <th></th>\n",
              "      <th>A</th>\n",
              "      <th>B</th>\n",
              "    </tr>\n",
              "  </thead>\n",
              "  <tbody>\n",
              "    <tr>\n",
              "      <th>2021-01-01</th>\n",
              "      <td>0.276618</td>\n",
              "      <td>0.091495</td>\n",
              "    </tr>\n",
              "    <tr>\n",
              "      <th>2021-01-02</th>\n",
              "      <td>0.811114</td>\n",
              "      <td>0.088884</td>\n",
              "    </tr>\n",
              "    <tr>\n",
              "      <th>2021-01-03</th>\n",
              "      <td>0.755415</td>\n",
              "      <td>0.797776</td>\n",
              "    </tr>\n",
              "    <tr>\n",
              "      <th>2021-01-04</th>\n",
              "      <td>1.752075</td>\n",
              "      <td>0.647695</td>\n",
              "    </tr>\n",
              "    <tr>\n",
              "      <th>2021-01-05</th>\n",
              "      <td>1.322530</td>\n",
              "      <td>0.382532</td>\n",
              "    </tr>\n",
              "  </tbody>\n",
              "</table>\n",
              "</div>"
            ],
            "text/plain": [
              "                   A         B\n",
              "2021-01-01  0.276618  0.091495\n",
              "2021-01-02  0.811114  0.088884\n",
              "2021-01-03  0.755415  0.797776\n",
              "2021-01-04  1.752075  0.647695\n",
              "2021-01-05  1.322530  0.382532"
            ]
          },
          "execution_count": 42,
          "metadata": {},
          "output_type": "execute_result"
        }
      ],
      "source": [
        "DataFrame_01.loc[:,['A','B']]"
      ]
    },
    {
      "cell_type": "code",
      "execution_count": 43,
      "metadata": {
        "colab": {
          "base_uri": "https://localhost:8080/"
        },
        "id": "Pa1kEPCG8j8a",
        "outputId": "c7a6fd90-63a9-4925-8ff6-14d3dc40c289"
      },
      "outputs": [
        {
          "data": {
            "text/plain": [
              "A    1.752075\n",
              "B    0.647695\n",
              "C    0.479490\n",
              "D    0.175780\n",
              "Name: 2021-01-04 00:00:00, dtype: float64"
            ]
          },
          "execution_count": 43,
          "metadata": {},
          "output_type": "execute_result"
        }
      ],
      "source": [
        "DataFrame_01.iloc[3]"
      ]
    },
    {
      "cell_type": "code",
      "execution_count": 44,
      "metadata": {
        "colab": {
          "base_uri": "https://localhost:8080/",
          "height": 104
        },
        "id": "h8gnVdTS8oFY",
        "outputId": "bede3189-0fa8-433f-991a-9961f367ad01"
      },
      "outputs": [
        {
          "data": {
            "text/html": [
              "<div>\n",
              "<style scoped>\n",
              "    .dataframe tbody tr th:only-of-type {\n",
              "        vertical-align: middle;\n",
              "    }\n",
              "\n",
              "    .dataframe tbody tr th {\n",
              "        vertical-align: top;\n",
              "    }\n",
              "\n",
              "    .dataframe thead th {\n",
              "        text-align: right;\n",
              "    }\n",
              "</style>\n",
              "<table border=\"1\" class=\"dataframe\">\n",
              "  <thead>\n",
              "    <tr style=\"text-align: right;\">\n",
              "      <th></th>\n",
              "      <th>A</th>\n",
              "      <th>B</th>\n",
              "    </tr>\n",
              "  </thead>\n",
              "  <tbody>\n",
              "    <tr>\n",
              "      <th>2021-01-04</th>\n",
              "      <td>1.752075</td>\n",
              "      <td>0.647695</td>\n",
              "    </tr>\n",
              "    <tr>\n",
              "      <th>2021-01-05</th>\n",
              "      <td>1.322530</td>\n",
              "      <td>0.382532</td>\n",
              "    </tr>\n",
              "  </tbody>\n",
              "</table>\n",
              "</div>"
            ],
            "text/plain": [
              "                   A         B\n",
              "2021-01-04  1.752075  0.647695\n",
              "2021-01-05  1.322530  0.382532"
            ]
          },
          "execution_count": 44,
          "metadata": {},
          "output_type": "execute_result"
        }
      ],
      "source": [
        "DataFrame_01.iloc[3:5,0:2]"
      ]
    },
    {
      "cell_type": "code",
      "execution_count": 45,
      "metadata": {
        "colab": {
          "base_uri": "https://localhost:8080/",
          "height": 133
        },
        "id": "4jPUB5-z8sQL",
        "outputId": "a8489b8d-8655-4ff5-f388-01a841f5bf4b"
      },
      "outputs": [
        {
          "data": {
            "text/html": [
              "<div>\n",
              "<style scoped>\n",
              "    .dataframe tbody tr th:only-of-type {\n",
              "        vertical-align: middle;\n",
              "    }\n",
              "\n",
              "    .dataframe tbody tr th {\n",
              "        vertical-align: top;\n",
              "    }\n",
              "\n",
              "    .dataframe thead th {\n",
              "        text-align: right;\n",
              "    }\n",
              "</style>\n",
              "<table border=\"1\" class=\"dataframe\">\n",
              "  <thead>\n",
              "    <tr style=\"text-align: right;\">\n",
              "      <th></th>\n",
              "      <th>A</th>\n",
              "      <th>B</th>\n",
              "      <th>C</th>\n",
              "      <th>D</th>\n",
              "    </tr>\n",
              "  </thead>\n",
              "  <tbody>\n",
              "    <tr>\n",
              "      <th>2021-01-01</th>\n",
              "      <td>0.276618</td>\n",
              "      <td>0.091495</td>\n",
              "      <td>-1.155843</td>\n",
              "      <td>-0.636452</td>\n",
              "    </tr>\n",
              "    <tr>\n",
              "      <th>2021-01-02</th>\n",
              "      <td>0.811114</td>\n",
              "      <td>0.088884</td>\n",
              "      <td>-0.358460</td>\n",
              "      <td>-0.341048</td>\n",
              "    </tr>\n",
              "    <tr>\n",
              "      <th>2021-01-03</th>\n",
              "      <td>0.755415</td>\n",
              "      <td>0.797776</td>\n",
              "      <td>-0.440897</td>\n",
              "      <td>0.670351</td>\n",
              "    </tr>\n",
              "    <tr>\n",
              "      <th>2021-01-04</th>\n",
              "      <td>1.752075</td>\n",
              "      <td>0.647695</td>\n",
              "      <td>0.479490</td>\n",
              "      <td>0.175780</td>\n",
              "    </tr>\n",
              "    <tr>\n",
              "      <th>2021-01-05</th>\n",
              "      <td>1.322530</td>\n",
              "      <td>0.382532</td>\n",
              "      <td>1.591827</td>\n",
              "      <td>-0.016956</td>\n",
              "    </tr>\n",
              "  </tbody>\n",
              "</table>\n",
              "</div>"
            ],
            "text/plain": [
              "                   A         B         C         D\n",
              "2021-01-01  0.276618  0.091495 -1.155843 -0.636452\n",
              "2021-01-02  0.811114  0.088884 -0.358460 -0.341048\n",
              "2021-01-03  0.755415  0.797776 -0.440897  0.670351\n",
              "2021-01-04  1.752075  0.647695  0.479490  0.175780\n",
              "2021-01-05  1.322530  0.382532  1.591827 -0.016956"
            ]
          },
          "execution_count": 45,
          "metadata": {},
          "output_type": "execute_result"
        }
      ],
      "source": [
        "DataFrame_01[ DataFrame_01.A > 0 ]"
      ]
    },
    {
      "cell_type": "code",
      "execution_count": 46,
      "metadata": {
        "colab": {
          "base_uri": "https://localhost:8080/",
          "height": 191
        },
        "id": "dlk8JEiA8zCO",
        "outputId": "8f63fb96-5297-4cfe-fc40-c95a63e2443b"
      },
      "outputs": [
        {
          "data": {
            "text/html": [
              "<div>\n",
              "<style scoped>\n",
              "    .dataframe tbody tr th:only-of-type {\n",
              "        vertical-align: middle;\n",
              "    }\n",
              "\n",
              "    .dataframe tbody tr th {\n",
              "        vertical-align: top;\n",
              "    }\n",
              "\n",
              "    .dataframe thead th {\n",
              "        text-align: right;\n",
              "    }\n",
              "</style>\n",
              "<table border=\"1\" class=\"dataframe\">\n",
              "  <thead>\n",
              "    <tr style=\"text-align: right;\">\n",
              "      <th></th>\n",
              "      <th>A</th>\n",
              "      <th>B</th>\n",
              "      <th>C</th>\n",
              "      <th>D</th>\n",
              "    </tr>\n",
              "  </thead>\n",
              "  <tbody>\n",
              "    <tr>\n",
              "      <th>2021-01-01</th>\n",
              "      <td>0.276618</td>\n",
              "      <td>0.091495</td>\n",
              "      <td>NaN</td>\n",
              "      <td>NaN</td>\n",
              "    </tr>\n",
              "    <tr>\n",
              "      <th>2021-01-02</th>\n",
              "      <td>0.811114</td>\n",
              "      <td>0.088884</td>\n",
              "      <td>NaN</td>\n",
              "      <td>NaN</td>\n",
              "    </tr>\n",
              "    <tr>\n",
              "      <th>2021-01-03</th>\n",
              "      <td>0.755415</td>\n",
              "      <td>0.797776</td>\n",
              "      <td>NaN</td>\n",
              "      <td>0.670351</td>\n",
              "    </tr>\n",
              "    <tr>\n",
              "      <th>2021-01-04</th>\n",
              "      <td>1.752075</td>\n",
              "      <td>0.647695</td>\n",
              "      <td>0.479490</td>\n",
              "      <td>0.175780</td>\n",
              "    </tr>\n",
              "    <tr>\n",
              "      <th>2021-01-05</th>\n",
              "      <td>1.322530</td>\n",
              "      <td>0.382532</td>\n",
              "      <td>1.591827</td>\n",
              "      <td>NaN</td>\n",
              "    </tr>\n",
              "  </tbody>\n",
              "</table>\n",
              "</div>"
            ],
            "text/plain": [
              "                   A         B         C         D\n",
              "2021-01-01  0.276618  0.091495       NaN       NaN\n",
              "2021-01-02  0.811114  0.088884       NaN       NaN\n",
              "2021-01-03  0.755415  0.797776       NaN  0.670351\n",
              "2021-01-04  1.752075  0.647695  0.479490  0.175780\n",
              "2021-01-05  1.322530  0.382532  1.591827       NaN"
            ]
          },
          "execution_count": 46,
          "metadata": {},
          "output_type": "execute_result"
        }
      ],
      "source": [
        "DataFrame_01[ DataFrame_01 > 0 ]"
      ]
    },
    {
      "cell_type": "code",
      "execution_count": 47,
      "metadata": {
        "colab": {
          "base_uri": "https://localhost:8080/",
          "height": 191
        },
        "id": "Vffq_mca83pb",
        "outputId": "8b516f5a-8565-4378-f2f7-4afeac386b13"
      },
      "outputs": [
        {
          "data": {
            "text/html": [
              "<div>\n",
              "<style scoped>\n",
              "    .dataframe tbody tr th:only-of-type {\n",
              "        vertical-align: middle;\n",
              "    }\n",
              "\n",
              "    .dataframe tbody tr th {\n",
              "        vertical-align: top;\n",
              "    }\n",
              "\n",
              "    .dataframe thead th {\n",
              "        text-align: right;\n",
              "    }\n",
              "</style>\n",
              "<table border=\"1\" class=\"dataframe\">\n",
              "  <thead>\n",
              "    <tr style=\"text-align: right;\">\n",
              "      <th></th>\n",
              "      <th>A</th>\n",
              "      <th>B</th>\n",
              "      <th>C</th>\n",
              "      <th>D</th>\n",
              "    </tr>\n",
              "  </thead>\n",
              "  <tbody>\n",
              "    <tr>\n",
              "      <th>2021-01-01</th>\n",
              "      <td>0.276618</td>\n",
              "      <td>0.091495</td>\n",
              "      <td>-1.155843</td>\n",
              "      <td>-0.636452</td>\n",
              "    </tr>\n",
              "    <tr>\n",
              "      <th>2021-01-02</th>\n",
              "      <td>0.811114</td>\n",
              "      <td>0.088884</td>\n",
              "      <td>-0.358460</td>\n",
              "      <td>-0.341048</td>\n",
              "    </tr>\n",
              "    <tr>\n",
              "      <th>2021-01-03</th>\n",
              "      <td>0.755415</td>\n",
              "      <td>0.797776</td>\n",
              "      <td>-0.440897</td>\n",
              "      <td>0.670351</td>\n",
              "    </tr>\n",
              "    <tr>\n",
              "      <th>2021-01-04</th>\n",
              "      <td>1.752075</td>\n",
              "      <td>0.647695</td>\n",
              "      <td>0.479490</td>\n",
              "      <td>0.175780</td>\n",
              "    </tr>\n",
              "    <tr>\n",
              "      <th>2021-01-05</th>\n",
              "      <td>1.322530</td>\n",
              "      <td>0.382532</td>\n",
              "      <td>1.591827</td>\n",
              "      <td>-0.016956</td>\n",
              "    </tr>\n",
              "  </tbody>\n",
              "</table>\n",
              "</div>"
            ],
            "text/plain": [
              "                   A         B         C         D\n",
              "2021-01-01  0.276618  0.091495 -1.155843 -0.636452\n",
              "2021-01-02  0.811114  0.088884 -0.358460 -0.341048\n",
              "2021-01-03  0.755415  0.797776 -0.440897  0.670351\n",
              "2021-01-04  1.752075  0.647695  0.479490  0.175780\n",
              "2021-01-05  1.322530  0.382532  1.591827 -0.016956"
            ]
          },
          "execution_count": 47,
          "metadata": {},
          "output_type": "execute_result"
        }
      ],
      "source": [
        "DataFrame_03 = DataFrame_01.copy()\n",
        "DataFrame_03"
      ]
    },
    {
      "cell_type": "code",
      "execution_count": 48,
      "metadata": {
        "colab": {
          "base_uri": "https://localhost:8080/",
          "height": 191
        },
        "id": "R1XqOStE9CML",
        "outputId": "d7651980-a905-4e96-f2c7-db169a7f23c8"
      },
      "outputs": [
        {
          "data": {
            "text/html": [
              "<div>\n",
              "<style scoped>\n",
              "    .dataframe tbody tr th:only-of-type {\n",
              "        vertical-align: middle;\n",
              "    }\n",
              "\n",
              "    .dataframe tbody tr th {\n",
              "        vertical-align: top;\n",
              "    }\n",
              "\n",
              "    .dataframe thead th {\n",
              "        text-align: right;\n",
              "    }\n",
              "</style>\n",
              "<table border=\"1\" class=\"dataframe\">\n",
              "  <thead>\n",
              "    <tr style=\"text-align: right;\">\n",
              "      <th></th>\n",
              "      <th>A</th>\n",
              "      <th>B</th>\n",
              "      <th>C</th>\n",
              "      <th>D</th>\n",
              "      <th>Nova_Coluna</th>\n",
              "    </tr>\n",
              "  </thead>\n",
              "  <tbody>\n",
              "    <tr>\n",
              "      <th>2021-01-01</th>\n",
              "      <td>0.276618</td>\n",
              "      <td>0.091495</td>\n",
              "      <td>-1.155843</td>\n",
              "      <td>-0.636452</td>\n",
              "      <td>abc</td>\n",
              "    </tr>\n",
              "    <tr>\n",
              "      <th>2021-01-02</th>\n",
              "      <td>0.811114</td>\n",
              "      <td>0.088884</td>\n",
              "      <td>-0.358460</td>\n",
              "      <td>-0.341048</td>\n",
              "      <td>def</td>\n",
              "    </tr>\n",
              "    <tr>\n",
              "      <th>2021-01-03</th>\n",
              "      <td>0.755415</td>\n",
              "      <td>0.797776</td>\n",
              "      <td>-0.440897</td>\n",
              "      <td>0.670351</td>\n",
              "      <td>ghi</td>\n",
              "    </tr>\n",
              "    <tr>\n",
              "      <th>2021-01-04</th>\n",
              "      <td>1.752075</td>\n",
              "      <td>0.647695</td>\n",
              "      <td>0.479490</td>\n",
              "      <td>0.175780</td>\n",
              "      <td>jkl</td>\n",
              "    </tr>\n",
              "    <tr>\n",
              "      <th>2021-01-05</th>\n",
              "      <td>1.322530</td>\n",
              "      <td>0.382532</td>\n",
              "      <td>1.591827</td>\n",
              "      <td>-0.016956</td>\n",
              "      <td>mno</td>\n",
              "    </tr>\n",
              "  </tbody>\n",
              "</table>\n",
              "</div>"
            ],
            "text/plain": [
              "                   A         B         C         D Nova_Coluna\n",
              "2021-01-01  0.276618  0.091495 -1.155843 -0.636452         abc\n",
              "2021-01-02  0.811114  0.088884 -0.358460 -0.341048         def\n",
              "2021-01-03  0.755415  0.797776 -0.440897  0.670351         ghi\n",
              "2021-01-04  1.752075  0.647695  0.479490  0.175780         jkl\n",
              "2021-01-05  1.322530  0.382532  1.591827 -0.016956         mno"
            ]
          },
          "execution_count": 48,
          "metadata": {},
          "output_type": "execute_result"
        }
      ],
      "source": [
        "DataFrame_03['Nova_Coluna'] = ['abc', 'def', 'ghi', 'jkl', 'mno']\n",
        "DataFrame_03"
      ]
    },
    {
      "cell_type": "code",
      "execution_count": 49,
      "metadata": {
        "colab": {
          "base_uri": "https://localhost:8080/",
          "height": 104
        },
        "id": "Zf6tIiMy9L7M",
        "outputId": "d1dd7959-4f8c-4789-951b-a00dfb8ab365"
      },
      "outputs": [
        {
          "data": {
            "text/html": [
              "<div>\n",
              "<style scoped>\n",
              "    .dataframe tbody tr th:only-of-type {\n",
              "        vertical-align: middle;\n",
              "    }\n",
              "\n",
              "    .dataframe tbody tr th {\n",
              "        vertical-align: top;\n",
              "    }\n",
              "\n",
              "    .dataframe thead th {\n",
              "        text-align: right;\n",
              "    }\n",
              "</style>\n",
              "<table border=\"1\" class=\"dataframe\">\n",
              "  <thead>\n",
              "    <tr style=\"text-align: right;\">\n",
              "      <th></th>\n",
              "      <th>A</th>\n",
              "      <th>B</th>\n",
              "      <th>C</th>\n",
              "      <th>D</th>\n",
              "      <th>Nova_Coluna</th>\n",
              "    </tr>\n",
              "  </thead>\n",
              "  <tbody>\n",
              "    <tr>\n",
              "      <th>2021-01-01</th>\n",
              "      <td>0.276618</td>\n",
              "      <td>0.091495</td>\n",
              "      <td>-1.155843</td>\n",
              "      <td>-0.636452</td>\n",
              "      <td>abc</td>\n",
              "    </tr>\n",
              "    <tr>\n",
              "      <th>2021-01-05</th>\n",
              "      <td>1.322530</td>\n",
              "      <td>0.382532</td>\n",
              "      <td>1.591827</td>\n",
              "      <td>-0.016956</td>\n",
              "      <td>mno</td>\n",
              "    </tr>\n",
              "  </tbody>\n",
              "</table>\n",
              "</div>"
            ],
            "text/plain": [
              "                   A         B         C         D Nova_Coluna\n",
              "2021-01-01  0.276618  0.091495 -1.155843 -0.636452         abc\n",
              "2021-01-05  1.322530  0.382532  1.591827 -0.016956         mno"
            ]
          },
          "execution_count": 49,
          "metadata": {},
          "output_type": "execute_result"
        }
      ],
      "source": [
        "DataFrame_03[ DataFrame_03['Nova_Coluna'].isin(['abc', 'mno']) ]"
      ]
    },
    {
      "cell_type": "code",
      "execution_count": 50,
      "metadata": {
        "colab": {
          "base_uri": "https://localhost:8080/"
        },
        "id": "lgLJ7dSb9X7z",
        "outputId": "8d99558b-c926-4363-fff6-034fb42f66c9"
      },
      "outputs": [
        {
          "data": {
            "text/plain": [
              "2021-01-01    1\n",
              "2021-01-02    2\n",
              "2021-01-03    3\n",
              "2021-01-04    4\n",
              "2021-01-05    5\n",
              "2021-01-06    6\n",
              "Freq: D, dtype: int64"
            ]
          },
          "execution_count": 50,
          "metadata": {},
          "output_type": "execute_result"
        }
      ],
      "source": [
        "DataFrame_04 = pd.Series( [1,2,3,4,5,6], \n",
        "                          index=pd.date_range('20210101', periods=6) )\n",
        "DataFrame_04"
      ]
    },
    {
      "cell_type": "code",
      "execution_count": 51,
      "metadata": {
        "id": "-yxslsA29mOj"
      },
      "outputs": [
        {
          "ename": "NameError",
          "evalue": "name 'dates' is not defined",
          "output_type": "error",
          "traceback": [
            "\u001b[1;31m---------------------------------------------------------------------------\u001b[0m",
            "\u001b[1;31mNameError\u001b[0m                                 Traceback (most recent call last)",
            "Cell \u001b[1;32mIn[51], line 1\u001b[0m\n\u001b[1;32m----> 1\u001b[0m DataFrame_04\u001b[39m.\u001b[39mat[ dates[\u001b[39m0\u001b[39m], \u001b[39m'\u001b[39m\u001b[39mA\u001b[39m\u001b[39m'\u001b[39m] \u001b[39m=\u001b[39m \u001b[39m0\u001b[39m\n",
            "\u001b[1;31mNameError\u001b[0m: name 'dates' is not defined"
          ]
        }
      ],
      "source": [
        "DataFrame_04.at[ dates[0], 'A'] = 0"
      ]
    },
    {
      "cell_type": "code",
      "execution_count": null,
      "metadata": {
        "id": "eQR4WcUWb-AD"
      },
      "outputs": [],
      "source": [
        "Lista = [ c for c in range(1,50000000) ]"
      ]
    },
    {
      "cell_type": "code",
      "execution_count": null,
      "metadata": {
        "colab": {
          "base_uri": "https://localhost:8080/"
        },
        "id": "nQLIAV9Ob-nC",
        "outputId": "625767a9-8a25-4ab5-c8e4-53edb4e8dbed"
      },
      "outputs": [],
      "source": [
        "%time for i in Lista: pass"
      ]
    },
    {
      "cell_type": "code",
      "execution_count": null,
      "metadata": {
        "colab": {
          "base_uri": "https://localhost:8080/"
        },
        "id": "X-T-0tHNeQA7",
        "outputId": "e8b959e5-ad4e-4dd5-d796-e03d8496285f"
      },
      "outputs": [],
      "source": [
        "%time\n",
        "for c in range(1, 50000000):\n",
        "  pass\n",
        "%time\n"
      ]
    },
    {
      "cell_type": "code",
      "execution_count": null,
      "metadata": {
        "id": "P2aE6kkReVaq"
      },
      "outputs": [],
      "source": []
    }
  ],
  "metadata": {
    "colab": {
      "provenance": []
    },
    "kernelspec": {
      "display_name": "Python 3",
      "language": "python",
      "name": "python3"
    },
    "language_info": {
      "codemirror_mode": {
        "name": "ipython",
        "version": 3
      },
      "file_extension": ".py",
      "mimetype": "text/x-python",
      "name": "python",
      "nbconvert_exporter": "python",
      "pygments_lexer": "ipython3",
      "version": "3.11.1"
    },
    "vscode": {
      "interpreter": {
        "hash": "5238573367df39f7286bb46f9ff5f08f63a01a80960060ce41e3c79b190280fa"
      }
    }
  },
  "nbformat": 4,
  "nbformat_minor": 0
}
